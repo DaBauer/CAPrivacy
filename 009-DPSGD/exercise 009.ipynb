{
 "cells": [
  {
   "cell_type": "markdown",
   "id": "c823e83d",
   "metadata": {},
   "source": [
    "# Differential Privacy with TensorFlow Privacy"
   ]
  },
  {
   "cell_type": "markdown",
   "id": "28bb48be",
   "metadata": {},
   "source": [
    "In this exercise, you will use a differentially private version of stochastic gradient descent (SGD) to classify a binary subset of the MNIST dataset. As a baseline, you will use logistic regression with L2 regularization, and you will compare it to convolutional neural networks. Finally, you will search for a good trade-off between model utility (i.e. F1 score) and privacy (epsilon).\n",
    "\n",
    "If you are not familiar with TensorFlow Privacy already, you may use this [**tutorial**](https://www.tensorflow.org/responsible_ai/privacy/tutorials/classification_privacy) to get an overview about the library or check out their [**GitHub repository**](https://github.com/tensorflow/privacy)."
   ]
  },
  {
   "cell_type": "code",
   "execution_count": null,
   "id": "86cf1b0a",
   "metadata": {
    "ExecuteTime": {
     "end_time": "2023-01-09T21:54:38.292578Z",
     "start_time": "2023-01-09T21:54:25.129027Z"
    }
   },
   "outputs": [],
   "source": [
    "# imports\n",
    "import numpy as np\n",
    "np.random.seed(0)\n",
    "\n",
    "from sklearn.metrics import accuracy_score, f1_score\n",
    "from sklearn.linear_model import LogisticRegression\n",
    "\n",
    "import tensorflow_privacy\n",
    "from tensorflow_privacy.privacy.analysis import compute_dp_sgd_privacy\n",
    "\n",
    "import tensorflow as tf\n",
    "from tensorflow.keras.datasets import mnist\n",
    "\n",
    "import matplotlib.pyplot as plt\n",
    "plt.style.use('seaborn-darkgrid')"
   ]
  },
  {
   "cell_type": "markdown",
   "id": "2beb5189",
   "metadata": {},
   "source": [
    "## Load and pre-process the dataset\n",
    "\n",
    "* Just as in the last exercise, you should start by loading the **MNIST** dataset. You may use `tensorflow.keras.datasets.mnist`, which is included in the import statements above.\n",
    "\n",
    "* Note that you need a **binarized** version of the MNIST dataset. Also, you need to keep only **2** classes out of 10, namely 5 and 8.\n",
    "* Rescale the feature values such that each sample has **Euclidean norm** $≤ 1$.\n",
    "* Plot some example images."
   ]
  },
  {
   "cell_type": "code",
   "execution_count": null,
   "id": "e2af8c48",
   "metadata": {
    "ExecuteTime": {
     "end_time": "2023-01-09T22:23:48.162263Z",
     "start_time": "2023-01-09T22:23:47.404686Z"
    }
   },
   "outputs": [],
   "source": [
    "# load dataset using Keras\n",
    "(X_train, y_train), (X_test, y_test) = mnist.load_data()\n",
    "\n",
    "# normalize samples to [0, 1] euclidean norm\n",
    "\n",
    "# [insert your code here]"
   ]
  },
  {
   "cell_type": "code",
   "execution_count": null,
   "id": "c87038f8",
   "metadata": {
    "ExecuteTime": {
     "end_time": "2023-01-09T22:23:48.214641Z",
     "start_time": "2023-01-09T22:23:48.185199Z"
    }
   },
   "outputs": [],
   "source": [
    "# transform into binary classification dataset\n",
    "\n",
    "# [insert your code here]"
   ]
  },
  {
   "cell_type": "code",
   "execution_count": null,
   "id": "9624e12b",
   "metadata": {
    "ExecuteTime": {
     "end_time": "2023-01-09T22:23:49.331679Z",
     "start_time": "2023-01-09T22:23:48.593208Z"
    }
   },
   "outputs": [],
   "source": [
    "# plot some example images\n",
    "\n",
    "# [insert your code here]"
   ]
  },
  {
   "cell_type": "markdown",
   "id": "1d9b4282",
   "metadata": {
    "ExecuteTime": {
     "end_time": "2023-01-08T15:58:25.912702Z",
     "start_time": "2023-01-08T15:58:25.907114Z"
    }
   },
   "source": [
    "## Setup, train and evaluate baseline model\n",
    "\n",
    "* Setup a Logistic Regression model with L2 regularization and train it on the binarized MNIST data using **Differentially Private Stochastic Gradient Descent (DP-SGD)**. You may use `sklearn.linear_model.LogisticRegression` or an equivalent layer from TensorFlow (softmax/sigmoid). Use `tensorflow_privacy.DPKerasSGDOptimizer` as the optimizer (or the differentially private version of ADAM).\n",
    "\n",
    "* Train the model on different privacy budgets: $\\epsilon \\in [0.1, 0.5, 1.0, 5.0, 10.0]$ with fixed $\\delta = 0.0001$.\n",
    "\n",
    "* Measure the classification performance using the $F_1$ score for each epsilon.\n",
    "\n",
    "_Hint_: change the `noise_multiplier` hyperparameter in your `tensorflow_privacy.DPKerasSGDOptimizer` and observe how $\\epsilon$ changes using `tensorflow_privacy.privacy.analysis.compute_dp_sgd_privacy`."
   ]
  },
  {
   "cell_type": "code",
   "execution_count": null,
   "id": "0654d640",
   "metadata": {
    "ExecuteTime": {
     "end_time": "2023-01-08T22:02:52.888868Z",
     "start_time": "2023-01-08T22:02:51.840033Z"
    }
   },
   "outputs": [],
   "source": [
    "# use DP-SGD to train logistic regression with l2 regularization\n",
    "\n",
    "# [insert your code here]"
   ]
  },
  {
   "cell_type": "markdown",
   "id": "e7b0eda0",
   "metadata": {},
   "source": [
    "## Setup, train and evaluate CNN trained with DP-SGD\n",
    "\n",
    "* Repeat the previous task, but instead of training L2-regularized Logistic Regression, you should train a 3-layer CNN using DP-SGD."
   ]
  },
  {
   "cell_type": "code",
   "execution_count": null,
   "id": "d8503763",
   "metadata": {},
   "outputs": [],
   "source": [
    "# use DP-SGD to train 3-layer CNN\n",
    "\n",
    "# [insert your code here]"
   ]
  },
  {
   "cell_type": "markdown",
   "id": "897a398d",
   "metadata": {},
   "source": [
    "## Optional: Setup, train and evaluate CNN trained with \"vanilla\" SGD\n",
    "\n",
    "* Retrain the CNN from the previous task with a \"vanilla\" (i. e. not differentially private) SGD optimizer, such as `tensorflow.keras.optimizers.SGD`."
   ]
  },
  {
   "cell_type": "code",
   "execution_count": null,
   "id": "e31423fb",
   "metadata": {},
   "outputs": [],
   "source": [
    "# use \"vanilla\" SGD to train 3-layer CNN\n",
    "\n",
    "# [insert your code here]"
   ]
  },
  {
   "cell_type": "markdown",
   "id": "a0eb2215",
   "metadata": {},
   "source": [
    "## Plot results\n",
    "\n",
    "* Plot curves for each model, with $\\epsilon$ on the x-axis and your utility metric ($F_1$ score) on the y-axis.\n",
    "\n",
    "* What do you observe?"
   ]
  },
  {
   "cell_type": "code",
   "execution_count": null,
   "id": "0dcbac7f",
   "metadata": {
    "ExecuteTime": {
     "end_time": "2023-01-08T22:09:11.611499Z",
     "start_time": "2023-01-08T22:09:11.473542Z"
    }
   },
   "outputs": [],
   "source": [
    "# line chart displaying privacy/utility trade-off\n",
    "\n",
    "# [insert your code here]"
   ]
  },
  {
   "cell_type": "markdown",
   "id": "96a5e417",
   "metadata": {},
   "source": [
    "**Bonus:** Try out the Gaussian-DP based accounting [here](https://github.com/tensorflow/privacy/blob/master/tensorflow_privacy/privacy/analysis/gdp_accountant.py)"
   ]
  }
 ],
 "metadata": {
  "kernelspec": {
   "display_name": "Python 3 (ipykernel)",
   "language": "python",
   "name": "python3"
  },
  "language_info": {
   "codemirror_mode": {
    "name": "ipython",
    "version": 3
   },
   "file_extension": ".py",
   "mimetype": "text/x-python",
   "name": "python",
   "nbconvert_exporter": "python",
   "pygments_lexer": "ipython3",
   "version": "3.10.8"
  },
  "toc": {
   "base_numbering": 1,
   "nav_menu": {},
   "number_sections": true,
   "sideBar": true,
   "skip_h1_title": false,
   "title_cell": "Table of Contents",
   "title_sidebar": "Contents",
   "toc_cell": false,
   "toc_position": {},
   "toc_section_display": true,
   "toc_window_display": false
  },
  "varInspector": {
   "cols": {
    "lenName": 16,
    "lenType": 16,
    "lenVar": 40
   },
   "kernels_config": {
    "python": {
     "delete_cmd_postfix": "",
     "delete_cmd_prefix": "del ",
     "library": "var_list.py",
     "varRefreshCmd": "print(var_dic_list())"
    },
    "r": {
     "delete_cmd_postfix": ") ",
     "delete_cmd_prefix": "rm(",
     "library": "var_list.r",
     "varRefreshCmd": "cat(var_dic_list()) "
    }
   },
   "types_to_exclude": [
    "module",
    "function",
    "builtin_function_or_method",
    "instance",
    "_Feature"
   ],
   "window_display": false
  }
 },
 "nbformat": 4,
 "nbformat_minor": 5
}
