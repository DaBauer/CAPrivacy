{
 "cells": [
  {
   "cell_type": "markdown",
   "id": "c823e83d",
   "metadata": {},
   "source": [
    "# Differential Privacy with TensorFlow Privacy"
   ]
  },
  {
   "cell_type": "markdown",
   "id": "28bb48be",
   "metadata": {},
   "source": [
    "In this exercise, you will use a differentially private version of stochastic gradient descent (SGD) to classify a binary subset of the MNIST dataset. As a baseline, you will use logistic regression with L2 regularization, and you will compare it to convolutional neural networks. Finally, you will search for a good trade-off between model utility (i.e. F1 score) and privacy (epsilon).\n",
    "\n",
    "If you are not familiar with TensorFlow Privacy already, you may use this [**tutorial**](https://www.tensorflow.org/responsible_ai/privacy/tutorials/classification_privacy) to get an overview about the library or check out their [**GitHub repository**](https://github.com/tensorflow/privacy)."
   ]
  },
  {
   "cell_type": "code",
   "execution_count": 1,
   "id": "86cf1b0a",
   "metadata": {
    "ExecuteTime": {
     "end_time": "2023-01-09T21:54:38.292578Z",
     "start_time": "2023-01-09T21:54:25.129027Z"
    }
   },
   "outputs": [
    {
     "name": "stderr",
     "output_type": "stream",
     "text": [
      "2023-01-18 14:21:52.928056: I tensorflow/core/platform/cpu_feature_guard.cc:193] This TensorFlow binary is optimized with oneAPI Deep Neural Network Library (oneDNN) to use the following CPU instructions in performance-critical operations:  AVX2 FMA\n",
      "To enable them in other operations, rebuild TensorFlow with the appropriate compiler flags.\n",
      "2023-01-18 14:21:53.075261: W tensorflow/compiler/xla/stream_executor/platform/default/dso_loader.cc:64] Could not load dynamic library 'libcudart.so.11.0'; dlerror: libcudart.so.11.0: cannot open shared object file: No such file or directory\n",
      "2023-01-18 14:21:53.075299: I tensorflow/compiler/xla/stream_executor/cuda/cudart_stub.cc:29] Ignore above cudart dlerror if you do not have a GPU set up on your machine.\n",
      "2023-01-18 14:21:53.988962: W tensorflow/compiler/xla/stream_executor/platform/default/dso_loader.cc:64] Could not load dynamic library 'libnvinfer.so.7'; dlerror: libnvinfer.so.7: cannot open shared object file: No such file or directory\n",
      "2023-01-18 14:21:53.996200: W tensorflow/compiler/xla/stream_executor/platform/default/dso_loader.cc:64] Could not load dynamic library 'libnvinfer_plugin.so.7'; dlerror: libnvinfer_plugin.so.7: cannot open shared object file: No such file or directory\n",
      "2023-01-18 14:21:53.996228: W tensorflow/compiler/tf2tensorrt/utils/py_utils.cc:38] TF-TRT Warning: Cannot dlopen some TensorRT libraries. If you would like to use Nvidia GPU with TensorRT, please make sure the missing libraries mentioned above are installed properly.\n"
     ]
    }
   ],
   "source": [
    "# imports\n",
    "import numpy as np\n",
    "np.random.seed(0)\n",
    "\n",
    "from sklearn.metrics import accuracy_score, f1_score\n",
    "from sklearn.linear_model import LogisticRegression\n",
    "from sklearn.model_selection import train_test_split\n",
    "\n",
    "\n",
    "import tensorflow as tf\n",
    "from tensorflow.keras.datasets import mnist\n",
    "\n",
    "import matplotlib.pyplot as plt\n",
    "plt.style.use('seaborn-darkgrid')\n",
    "\n",
    "\n",
    "import tensorflow_privacy\n",
    "from tensorflow_privacy.privacy.analysis import compute_dp_sgd_privacy\n"
   ]
  },
  {
   "cell_type": "markdown",
   "id": "2beb5189",
   "metadata": {},
   "source": [
    "## Load and pre-process the dataset\n",
    "\n",
    "* Just as in the last exercise, you should start by loading the **MNIST** dataset. You may use `tensorflow.keras.datasets.mnist`, which is included in the import statements above.\n",
    "\n",
    "* Note that you need a **binarized** version of the MNIST dataset. Also, you need to keep only **2** classes out of 10, namely 5 and 8.\n",
    "* Rescale the feature values such that each sample has **Euclidean norm** $≤ 1$.\n",
    "* Plot some example images."
   ]
  },
  {
   "cell_type": "code",
   "execution_count": 2,
   "id": "e2af8c48",
   "metadata": {
    "ExecuteTime": {
     "end_time": "2023-01-09T22:23:48.162263Z",
     "start_time": "2023-01-09T22:23:47.404686Z"
    }
   },
   "outputs": [],
   "source": [
    "# load dataset using Keras\n",
    "\n",
    "(x_train, y_train), (x_test, y_test) = tf.keras.datasets.mnist.load_data()\n",
    "\n",
    "indexes_train = [i for i in range(len(y_train)) if y_train[i] in [5,8] ]\n",
    "indexes_test = [i for i in range(len(y_test)) if y_test[i] in [5,8] ]\n",
    "\n",
    "x_train, y_train = np.array([x_train[i] for i in indexes_train]), np.array([[y_train[i]] for i in indexes_train])\n",
    "\n",
    "\n",
    "# normalize\n",
    "x_train = x_train/255.\n",
    "\n",
    "# binarize\n",
    "x_train = np.where(x_train > 0.5, 1, 0)\n",
    "\n",
    "#x_train = x_train.reshape((x_train.shape[0], x_train.shape[1]*x_train.shape[2]))\n",
    "\n",
    "max = np.linalg.norm(x_train, axis=0).max()\n",
    "x_train = np.divide(x_train, max)\n",
    "\n",
    "# test-train-split\n",
    "Xtrain, xtest, Ytrain, ytest = train_test_split(x_train, y_train, train_size = 10000)\n",
    "Xtest, xrest, Ytest, yrest = train_test_split(Xtrain, Ytrain, train_size = 1000)\n",
    "\n",
    "# reformulate y's\n",
    "Ytrain = np.where(Ytrain > 5, 1, 0)\n",
    "Ytest = np.where(Ytest > 5, 1, 0)\n"
   ]
  },
  {
   "cell_type": "code",
   "execution_count": 3,
   "id": "9624e12b",
   "metadata": {
    "ExecuteTime": {
     "end_time": "2023-01-09T22:23:49.331679Z",
     "start_time": "2023-01-09T22:23:48.593208Z"
    }
   },
   "outputs": [
    {
     "data": {
      "image/png": "[encoded data removed]",
      "text/plain": [
       "<Figure size 2500x2500 with 5 Axes>"
      ]
     },
     "metadata": {},
     "output_type": "display_data"
    }
   ],
   "source": [
    "# plot some example images\n",
    "\n",
    "idxs = np.random.choice(len(x_train), 5, replace=False)\n",
    "fig, axs = plt.subplots(1,5,figsize=(25,25))\n",
    "for idx, ax in zip(idxs, axs.flatten()):\n",
    "    ax.imshow(x_train[idx])"
   ]
  },
  {
   "cell_type": "markdown",
   "id": "1d9b4282",
   "metadata": {
    "ExecuteTime": {
     "end_time": "2023-01-08T15:58:25.912702Z",
     "start_time": "2023-01-08T15:58:25.907114Z"
    }
   },
   "source": [
    "## Setup, train and evaluate baseline model\n",
    "\n",
    "* Setup a Logistic Regression model with L2 regularization and train it on the binarized MNIST data using **Differentially Private Stochastic Gradient Descent (DP-SGD)**. You may use `sklearn.linear_model.LogisticRegression` or an equivalent layer from TensorFlow (softmax/sigmoid). Use `tensorflow_privacy.DPKerasSGDOptimizer` as the optimizer (or the differentially private version of ADAM).\n",
    "\n",
    "* Train the model on different privacy budgets: $\\epsilon \\in [0.1, 0.5, 1.0, 5.0, 10.0]$ with fixed $\\delta = 0.0001$.\n",
    "\n",
    "* Measure the classification performance using the $F_1$ score for each epsilon.\n",
    "\n",
    "_Hint_: change the `noise_multiplier` hyperparameter in your `tensorflow_privacy.DPKerasSGDOptimizer` and observe how $\\epsilon$ changes using `tensorflow_privacy.privacy.analysis.compute_dp_sgd_privacy`."
   ]
  },
  {
   "cell_type": "code",
   "execution_count": 4,
   "id": "0654d640",
   "metadata": {
    "ExecuteTime": {
     "end_time": "2023-01-08T22:02:52.888868Z",
     "start_time": "2023-01-08T22:02:51.840033Z"
    }
   },
   "outputs": [
    {
     "name": "stderr",
     "output_type": "stream",
     "text": [
      "2023-01-18 14:22:06.917498: W tensorflow/compiler/xla/stream_executor/platform/default/dso_loader.cc:64] Could not load dynamic library 'libcuda.so.1'; dlerror: libcuda.so.1: cannot open shared object file: No such file or directory\n",
      "2023-01-18 14:22:06.917692: W tensorflow/compiler/xla/stream_executor/cuda/cuda_driver.cc:265] failed call to cuInit: UNKNOWN ERROR (303)\n",
      "2023-01-18 14:22:06.917793: I tensorflow/compiler/xla/stream_executor/cuda/cuda_diagnostics.cc:156] kernel driver does not appear to be running on this host (david-20hdcto1ww): /proc/driver/nvidia/version does not exist\n",
      "2023-01-18 14:22:06.919043: I tensorflow/core/platform/cpu_feature_guard.cc:193] This TensorFlow binary is optimized with oneAPI Deep Neural Network Library (oneDNN) to use the following CPU instructions in performance-critical operations:  AVX2 FMA\n",
      "To enable them in other operations, rebuild TensorFlow with the appropriate compiler flags.\n"
     ]
    },
    {
     "name": "stdout",
     "output_type": "stream",
     "text": [
      "Epoch 1/20\n",
      "63/63 [==============================] - 1s 6ms/step - loss: 0.7701 - accuracy: 0.4661 - val_loss: 0.7056 - val_accuracy: 0.6050\n",
      "Epoch 2/20\n",
      "63/63 [==============================] - 0s 4ms/step - loss: 0.6965 - accuracy: 0.5901 - val_loss: 0.6932 - val_accuracy: 0.5090\n",
      "Epoch 3/20\n",
      "63/63 [==============================] - 0s 4ms/step - loss: 0.6930 - accuracy: 0.5229 - val_loss: 0.6929 - val_accuracy: 0.5140\n",
      "Epoch 4/20\n",
      "63/63 [==============================] - 0s 4ms/step - loss: 0.6929 - accuracy: 0.5268 - val_loss: 0.6929 - val_accuracy: 0.5090\n",
      "Epoch 5/20\n",
      "63/63 [==============================] - 0s 4ms/step - loss: 0.6929 - accuracy: 0.5240 - val_loss: 0.6929 - val_accuracy: 0.5090\n",
      "Epoch 6/20\n",
      "63/63 [==============================] - 0s 4ms/step - loss: 0.6929 - accuracy: 0.5232 - val_loss: 0.6929 - val_accuracy: 0.5120\n",
      "Epoch 7/20\n",
      "63/63 [==============================] - 0s 4ms/step - loss: 0.6929 - accuracy: 0.5238 - val_loss: 0.6929 - val_accuracy: 0.5130\n",
      "Epoch 8/20\n",
      "63/63 [==============================] - 0s 4ms/step - loss: 0.6929 - accuracy: 0.5301 - val_loss: 0.6929 - val_accuracy: 0.5090\n",
      "Epoch 9/20\n",
      "63/63 [==============================] - 0s 4ms/step - loss: 0.6929 - accuracy: 0.5239 - val_loss: 0.6929 - val_accuracy: 0.5115\n",
      "Epoch 10/20\n",
      "63/63 [==============================] - 0s 4ms/step - loss: 0.6929 - accuracy: 0.5260 - val_loss: 0.6929 - val_accuracy: 0.5090\n",
      "Epoch 11/20\n",
      "63/63 [==============================] - 0s 3ms/step - loss: 0.6929 - accuracy: 0.5235 - val_loss: 0.6929 - val_accuracy: 0.5090\n",
      "Epoch 12/20\n",
      "63/63 [==============================] - 0s 4ms/step - loss: 0.6929 - accuracy: 0.5254 - val_loss: 0.6929 - val_accuracy: 0.5090\n",
      "Epoch 13/20\n",
      "63/63 [==============================] - 0s 4ms/step - loss: 0.6929 - accuracy: 0.5232 - val_loss: 0.6929 - val_accuracy: 0.5105\n",
      "Epoch 14/20\n",
      "63/63 [==============================] - 0s 4ms/step - loss: 0.6929 - accuracy: 0.5264 - val_loss: 0.6929 - val_accuracy: 0.5090\n",
      "Epoch 15/20\n",
      "63/63 [==============================] - 0s 4ms/step - loss: 0.6929 - accuracy: 0.5239 - val_loss: 0.6929 - val_accuracy: 0.5185\n",
      "Epoch 16/20\n",
      "63/63 [==============================] - 0s 6ms/step - loss: 0.6929 - accuracy: 0.5254 - val_loss: 0.6929 - val_accuracy: 0.5125\n",
      "Epoch 17/20\n",
      "63/63 [==============================] - 0s 3ms/step - loss: 0.6929 - accuracy: 0.5246 - val_loss: 0.6929 - val_accuracy: 0.5100\n",
      "Epoch 18/20\n",
      "63/63 [==============================] - 0s 3ms/step - loss: 0.6929 - accuracy: 0.5247 - val_loss: 0.6929 - val_accuracy: 0.5090\n",
      "Epoch 19/20\n",
      "63/63 [==============================] - 0s 3ms/step - loss: 0.6929 - accuracy: 0.5263 - val_loss: 0.6929 - val_accuracy: 0.5090\n",
      "Epoch 20/20\n",
      "63/63 [==============================] - 0s 3ms/step - loss: 0.6929 - accuracy: 0.5281 - val_loss: 0.6929 - val_accuracy: 0.5155\n"
     ]
    }
   ],
   "source": [
    "# use DP-SGD to train logistic regression with l2 regularization\n",
    "lamb = 0.1\n",
    "learning_rate=0.001\n",
    "\n",
    "\n",
    "log_reg = tf.keras.Sequential()\n",
    "log_reg.add(tf.keras.layers.Flatten())\n",
    "log_reg.add(tf.keras.layers.Dense(1, kernel_regularizer=tf.keras.regularizers.l2(lamb), use_bias=False))\n",
    "log_reg.add(tf.keras.layers.Activation(\"sigmoid\"))\n",
    "\n",
    "#log_reg.summary()\n",
    "\n",
    "optimizer=tf.keras.optimizers.Adam(learning_rate)\n",
    "loss = tf.keras.losses.BinaryCrossentropy()\n",
    "log_reg.compile(optimizer=optimizer,\n",
    "              loss=loss,\n",
    "              metrics=['accuracy'])\n",
    "\n",
    "hist = log_reg.fit(Xtrain, Ytrain, \n",
    "                  epochs=20, batch_size=128,\n",
    "                  validation_split=0.2, \n",
    "                  shuffle=True,\n",
    "                 verbose=True)"
   ]
  },
  {
   "cell_type": "markdown",
   "id": "e7b0eda0",
   "metadata": {},
   "source": [
    "## Setup, train and evaluate CNN trained with DP-SGD\n",
    "\n",
    "* Repeat the previous task, but instead of training L2-regularized Logistic Regression, you should train a 3-layer CNN using DP-SGD."
   ]
  },
  {
   "cell_type": "code",
   "execution_count": 25,
   "id": "d8503763",
   "metadata": {},
   "outputs": [
    {
     "name": "stdout",
     "output_type": "stream",
     "text": [
      "Epoch 1/20\n",
      "WARNING:tensorflow:Model was constructed with shape (None, None, 28, 28) for input KerasTensor(type_spec=TensorSpec(shape=(None, None, 28, 28), dtype=tf.float32, name='conv2d_45_input'), name='conv2d_45_input', description=\"created by layer 'conv2d_45_input'\"), but it was called on an input with incompatible shape (None, 28, 28).\n"
     ]
    },
    {
     "ename": "ValueError",
     "evalue": "in user code:\n\n    File \"/home/david/.local/lib/python3.10/site-packages/keras/engine/training.py\", line 1249, in train_function  *\n        return step_function(self, iterator)\n    File \"/home/david/.local/lib/python3.10/site-packages/keras/engine/training.py\", line 1233, in step_function  **\n        outputs = model.distribute_strategy.run(run_step, args=(data,))\n    File \"/home/david/.local/lib/python3.10/site-packages/keras/engine/training.py\", line 1222, in run_step  **\n        outputs = model.train_step(data)\n    File \"/home/david/.local/lib/python3.10/site-packages/keras/engine/training.py\", line 1023, in train_step\n        y_pred = self(x, training=True)\n    File \"/home/david/.local/lib/python3.10/site-packages/keras/utils/traceback_utils.py\", line 70, in error_handler\n        raise e.with_traceback(filtered_tb) from None\n    File \"/home/david/.local/lib/python3.10/site-packages/keras/engine/input_spec.py\", line 250, in assert_input_compatibility\n        raise ValueError(\n\n    ValueError: Exception encountered when calling layer 'sequential_19' (type Sequential).\n    \n    Input 0 of layer \"conv2d_45\" is incompatible with the layer: expected min_ndim=4, found ndim=3. Full shape received: (None, 28, 28)\n    \n    Call arguments received by layer 'sequential_19' (type Sequential):\n      • inputs=tf.Tensor(shape=(None, 28, 28), dtype=float32)\n      • training=True\n      • mask=None\n",
     "output_type": "error",
     "traceback": [
      "\u001b[0;31m---------------------------------------------------------------------------\u001b[0m",
      "\u001b[0;31mValueError\u001b[0m                                Traceback (most recent call last)",
      "Cell \u001b[0;32mIn[25], line 21\u001b[0m\n\u001b[1;32m     15\u001b[0m loss \u001b[38;5;241m=\u001b[39m tf\u001b[38;5;241m.\u001b[39mkeras\u001b[38;5;241m.\u001b[39mlosses\u001b[38;5;241m.\u001b[39mBinaryCrossentropy()\n\u001b[1;32m     17\u001b[0m cnn\u001b[38;5;241m.\u001b[39mcompile(optimizer\u001b[38;5;241m=\u001b[39moptimizer,\n\u001b[1;32m     18\u001b[0m               loss\u001b[38;5;241m=\u001b[39mloss,\n\u001b[1;32m     19\u001b[0m               metrics\u001b[38;5;241m=\u001b[39m[\u001b[38;5;124m'\u001b[39m\u001b[38;5;124maccuracy\u001b[39m\u001b[38;5;124m'\u001b[39m])\n\u001b[0;32m---> 21\u001b[0m hist \u001b[38;5;241m=\u001b[39m \u001b[43mcnn\u001b[49m\u001b[38;5;241;43m.\u001b[39;49m\u001b[43mfit\u001b[49m\u001b[43m(\u001b[49m\u001b[43mXtrain\u001b[49m\u001b[43m,\u001b[49m\u001b[43m \u001b[49m\u001b[43mYtrain\u001b[49m\u001b[43m,\u001b[49m\u001b[43m \u001b[49m\n\u001b[1;32m     22\u001b[0m \u001b[43m                  \u001b[49m\u001b[43mepochs\u001b[49m\u001b[38;5;241;43m=\u001b[39;49m\u001b[38;5;241;43m20\u001b[39;49m\u001b[43m,\u001b[49m\u001b[43m \u001b[49m\u001b[43mbatch_size\u001b[49m\u001b[38;5;241;43m=\u001b[39;49m\u001b[38;5;241;43m128\u001b[39;49m\u001b[43m,\u001b[49m\n\u001b[1;32m     23\u001b[0m \u001b[43m                  \u001b[49m\u001b[43mvalidation_split\u001b[49m\u001b[38;5;241;43m=\u001b[39;49m\u001b[38;5;241;43m0.2\u001b[39;49m\u001b[43m,\u001b[49m\u001b[43m \u001b[49m\n\u001b[1;32m     24\u001b[0m \u001b[43m                  \u001b[49m\u001b[43mshuffle\u001b[49m\u001b[38;5;241;43m=\u001b[39;49m\u001b[38;5;28;43;01mTrue\u001b[39;49;00m\u001b[43m,\u001b[49m\n\u001b[1;32m     25\u001b[0m \u001b[43m                 \u001b[49m\u001b[43mverbose\u001b[49m\u001b[38;5;241;43m=\u001b[39;49m\u001b[38;5;28;43;01mTrue\u001b[39;49;00m\u001b[43m)\u001b[49m\n",
      "File \u001b[0;32m~/.local/lib/python3.10/site-packages/keras/utils/traceback_utils.py:70\u001b[0m, in \u001b[0;36mfilter_traceback.<locals>.error_handler\u001b[0;34m(*args, **kwargs)\u001b[0m\n\u001b[1;32m     67\u001b[0m     filtered_tb \u001b[38;5;241m=\u001b[39m _process_traceback_frames(e\u001b[38;5;241m.\u001b[39m__traceback__)\n\u001b[1;32m     68\u001b[0m     \u001b[38;5;66;03m# To get the full stack trace, call:\u001b[39;00m\n\u001b[1;32m     69\u001b[0m     \u001b[38;5;66;03m# `tf.debugging.disable_traceback_filtering()`\u001b[39;00m\n\u001b[0;32m---> 70\u001b[0m     \u001b[38;5;28;01mraise\u001b[39;00m e\u001b[38;5;241m.\u001b[39mwith_traceback(filtered_tb) \u001b[38;5;28;01mfrom\u001b[39;00m \u001b[38;5;28mNone\u001b[39m\n\u001b[1;32m     71\u001b[0m \u001b[38;5;28;01mfinally\u001b[39;00m:\n\u001b[1;32m     72\u001b[0m     \u001b[38;5;28;01mdel\u001b[39;00m filtered_tb\n",
      "File \u001b[0;32m/tmp/__autograph_generated_fileijmsfois.py:15\u001b[0m, in \u001b[0;36mouter_factory.<locals>.inner_factory.<locals>.tf__train_function\u001b[0;34m(iterator)\u001b[0m\n\u001b[1;32m     13\u001b[0m \u001b[38;5;28;01mtry\u001b[39;00m:\n\u001b[1;32m     14\u001b[0m     do_return \u001b[38;5;241m=\u001b[39m \u001b[38;5;28;01mTrue\u001b[39;00m\n\u001b[0;32m---> 15\u001b[0m     retval_ \u001b[38;5;241m=\u001b[39m ag__\u001b[38;5;241m.\u001b[39mconverted_call(ag__\u001b[38;5;241m.\u001b[39mld(step_function), (ag__\u001b[38;5;241m.\u001b[39mld(\u001b[38;5;28mself\u001b[39m), ag__\u001b[38;5;241m.\u001b[39mld(iterator)), \u001b[38;5;28;01mNone\u001b[39;00m, fscope)\n\u001b[1;32m     16\u001b[0m \u001b[38;5;28;01mexcept\u001b[39;00m:\n\u001b[1;32m     17\u001b[0m     do_return \u001b[38;5;241m=\u001b[39m \u001b[38;5;28;01mFalse\u001b[39;00m\n",
      "\u001b[0;31mValueError\u001b[0m: in user code:\n\n    File \"/home/david/.local/lib/python3.10/site-packages/keras/engine/training.py\", line 1249, in train_function  *\n        return step_function(self, iterator)\n    File \"/home/david/.local/lib/python3.10/site-packages/keras/engine/training.py\", line 1233, in step_function  **\n        outputs = model.distribute_strategy.run(run_step, args=(data,))\n    File \"/home/david/.local/lib/python3.10/site-packages/keras/engine/training.py\", line 1222, in run_step  **\n        outputs = model.train_step(data)\n    File \"/home/david/.local/lib/python3.10/site-packages/keras/engine/training.py\", line 1023, in train_step\n        y_pred = self(x, training=True)\n    File \"/home/david/.local/lib/python3.10/site-packages/keras/utils/traceback_utils.py\", line 70, in error_handler\n        raise e.with_traceback(filtered_tb) from None\n    File \"/home/david/.local/lib/python3.10/site-packages/keras/engine/input_spec.py\", line 250, in assert_input_compatibility\n        raise ValueError(\n\n    ValueError: Exception encountered when calling layer 'sequential_19' (type Sequential).\n    \n    Input 0 of layer \"conv2d_45\" is incompatible with the layer: expected min_ndim=4, found ndim=3. Full shape received: (None, 28, 28)\n    \n    Call arguments received by layer 'sequential_19' (type Sequential):\n      • inputs=tf.Tensor(shape=(None, 28, 28), dtype=float32)\n      • training=True\n      • mask=None\n"
     ]
    }
   ],
   "source": [
    "# use DP-SGD to train 3-layer CNN\n",
    "\n",
    "cnn = tf.keras.Sequential()\n",
    "cnn.add(tf.keras.layers.Conv2D(32,input_shape=(None, 28, 28), kernel_size=(3, 3), strides=2, padding='same', activation='relu'))\n",
    "cnn.add(tf.keras.layers.Conv2D(64, kernel_size=(3, 3), strides=2, padding='same', activation='relu'))\n",
    "cnn.add(tf.keras.layers.Conv2D(128, kernel_size=(3, 3), strides=2, padding='same', activation='relu'))\n",
    "\n",
    "#cnn.add(tf.keras.layers.Flatten())\n",
    "cnn.add(tf.keras.layers.Dense(32, activation='relu'))\n",
    "cnn.add(tf.keras.layers.Dense(2))\n",
    "\n",
    "cnn.build(input_shape=(None,28*28))\n",
    "\n",
    "optimizer=tf.keras.optimizers.Adam(learning_rate)\n",
    "loss = tf.keras.losses.BinaryCrossentropy()\n",
    "\n",
    "cnn.compile(optimizer=optimizer,\n",
    "              loss=loss,\n",
    "              metrics=['accuracy'])\n",
    "\n",
    "hist = cnn.fit(Xtrain, Ytrain, \n",
    "                  epochs=20, batch_size=128,\n",
    "                  validation_split=0.2, \n",
    "                  shuffle=True,\n",
    "                 verbose=True)"
   ]
  },
  {
   "cell_type": "markdown",
   "id": "897a398d",
   "metadata": {},
   "source": [
    "## Optional: Setup, train and evaluate CNN trained with \"vanilla\" SGD\n",
    "\n",
    "* Retrain the CNN from the previous task with a \"vanilla\" (i. e. not differentially private) SGD optimizer, such as `tensorflow.keras.optimizers.SGD`."
   ]
  },
  {
   "cell_type": "code",
   "execution_count": null,
   "id": "e31423fb",
   "metadata": {},
   "outputs": [],
   "source": [
    "# use \"vanilla\" SGD to train 3-layer CNN\n",
    "\n",
    "# [insert your code here]"
   ]
  },
  {
   "cell_type": "markdown",
   "id": "a0eb2215",
   "metadata": {},
   "source": [
    "## Plot results\n",
    "\n",
    "* Plot curves for each model, with $\\epsilon$ on the x-axis and your utility metric ($F_1$ score) on the y-axis.\n",
    "\n",
    "* What do you observe?"
   ]
  },
  {
   "cell_type": "code",
   "execution_count": null,
   "id": "0dcbac7f",
   "metadata": {
    "ExecuteTime": {
     "end_time": "2023-01-08T22:09:11.611499Z",
     "start_time": "2023-01-08T22:09:11.473542Z"
    }
   },
   "outputs": [],
   "source": [
    "# line chart displaying privacy/utility trade-off\n",
    "\n",
    "# [insert your code here]"
   ]
  },
  {
   "cell_type": "markdown",
   "id": "96a5e417",
   "metadata": {},
   "source": [
    "**Bonus:** Try out the Gaussian-DP based accounting [here](https://github.com/tensorflow/privacy/blob/master/tensorflow_privacy/privacy/analysis/gdp_accountant.py)"
   ]
  }
 ],
 "metadata": {
  "kernelspec": {
   "display_name": "Python 3 (ipykernel)",
   "language": "python",
   "name": "python3"
  },
  "language_info": {
   "codemirror_mode": {
    "name": "ipython",
    "version": 3
   },
   "file_extension": ".py",
   "mimetype": "text/x-python",
   "name": "python",
   "nbconvert_exporter": "python",
   "pygments_lexer": "ipython3",
   "version": "3.10.8"
  },
  "toc": {
   "base_numbering": 1,
   "nav_menu": {},
   "number_sections": true,
   "sideBar": true,
   "skip_h1_title": false,
   "title_cell": "Table of Contents",
   "title_sidebar": "Contents",
   "toc_cell": false,
   "toc_position": {},
   "toc_section_display": true,
   "toc_window_display": false
  },
  "varInspector": {
   "cols": {
    "lenName": 16,
    "lenType": 16,
    "lenVar": 40
   },
   "kernels_config": {
    "python": {
     "delete_cmd_postfix": "",
     "delete_cmd_prefix": "del ",
     "library": "var_list.py",
     "varRefreshCmd": "print(var_dic_list())"
    },
    "r": {
     "delete_cmd_postfix": ") ",
     "delete_cmd_prefix": "rm(",
     "library": "var_list.r",
     "varRefreshCmd": "cat(var_dic_list()) "
    }
   },
   "types_to_exclude": [
    "module",
    "function",
    "builtin_function_or_method",
    "instance",
    "_Feature"
   ],
   "window_display": false
  }
 },
 "nbformat": 4,
 "nbformat_minor": 5
}
