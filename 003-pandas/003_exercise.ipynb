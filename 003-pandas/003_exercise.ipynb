{
 "cells": [
  {
   "cell_type": "markdown",
   "id": "AaLFKovwzjdH",
   "metadata": {
    "id": "AaLFKovwzjdH"
   },
   "source": [
    "\"The Adult dataset is from the Census Bureau and the task is to predict whether a given adult makes more than $50,000 a year based attributes such as education, hours of work per week, etc..\"\n",
    "The dataset was drawn from the 1994 United States Census Bureau data and is credited to Ronny Kohavi and Barry Becker. \n",
    "\n",
    "\n",
    "*   Target field: Income (The income is divide into two classes: <=50K and >50K )\n",
    "*   A certain number of attributes (variables): These are the demographics and other features to describe a person\n",
    "\n",
    "For more information regarding the dataset see [Adult income](https://archive.ics.uci.edu/ml/datasets/adult)\n"
   ]
  },
  {
   "cell_type": "markdown",
   "id": "Bp5W-BUh2FcS",
   "metadata": {
    "id": "Bp5W-BUh2FcS"
   },
   "source": [
    "Code for importing the required packages (is given)"
   ]
  },
  {
   "cell_type": "code",
   "execution_count": 2,
   "id": "ADyUa3Azze-L",
   "metadata": {
    "id": "ADyUa3Azze-L"
   },
   "outputs": [
    {
     "name": "stderr",
     "output_type": "stream",
     "text": [
      "2022-11-08 23:54:55.083994: I tensorflow/core/platform/cpu_feature_guard.cc:193] This TensorFlow binary is optimized with oneAPI Deep Neural Network Library (oneDNN) to use the following CPU instructions in performance-critical operations:  AVX2 FMA\n",
      "To enable them in other operations, rebuild TensorFlow with the appropriate compiler flags.\n"
     ]
    }
   ],
   "source": [
    "import os\n",
    "\n",
    "import numpy as np\n",
    "import pandas as pd\n",
    "\n",
    "from sklearn.model_selection import train_test_split\n",
    "from sklearn.preprocessing import StandardScaler, MinMaxScaler\n",
    "from sklearn.metrics import confusion_matrix, classification_report\n",
    "from sklearn import metrics\n",
    "\n",
    "from matplotlib import pyplot as plt\n",
    "import seaborn as sns\n",
    "\n",
    "import tensorflow as tf\n",
    "from tensorflow.keras import Input, Model, layers, losses, optimizers, callbacks"
   ]
  },
  {
   "cell_type": "markdown",
   "id": "oRt9-ZFxzdDy",
   "metadata": {
    "id": "oRt9-ZFxzdDy"
   },
   "source": [
    "The Url and column names of the dataset are given. Read this dataset into a pandas dataframe and store it as a csv file. "
   ]
  },
  {
   "cell_type": "code",
   "execution_count": 136,
   "id": "b62422dd",
   "metadata": {
    "ExecuteTime": {
     "end_time": "2022-11-03T15:43:56.015287Z",
     "start_time": "2022-11-03T15:43:53.874486Z"
    },
    "id": "b62422dd"
   },
   "outputs": [
    {
     "data": {
      "text/html": [
       "<div>\n",
       "<style scoped>\n",
       "    .dataframe tbody tr th:only-of-type {\n",
       "        vertical-align: middle;\n",
       "    }\n",
       "\n",
       "    .dataframe tbody tr th {\n",
       "        vertical-align: top;\n",
       "    }\n",
       "\n",
       "    .dataframe thead th {\n",
       "        text-align: right;\n",
       "    }\n",
       "</style>\n",
       "<table border=\"1\" class=\"dataframe\">\n",
       "  <thead>\n",
       "    <tr style=\"text-align: right;\">\n",
       "      <th></th>\n",
       "      <th>age</th>\n",
       "      <th>workclass</th>\n",
       "      <th>fnlwgt</th>\n",
       "      <th>education</th>\n",
       "      <th>educational-num</th>\n",
       "      <th>marital-status</th>\n",
       "      <th>occupation</th>\n",
       "      <th>relationship</th>\n",
       "      <th>race</th>\n",
       "      <th>gender</th>\n",
       "      <th>capital-gain</th>\n",
       "      <th>capital-loss</th>\n",
       "      <th>hours-per-week</th>\n",
       "      <th>native-country</th>\n",
       "      <th>income</th>\n",
       "    </tr>\n",
       "  </thead>\n",
       "  <tbody>\n",
       "    <tr>\n",
       "      <th>0</th>\n",
       "      <td>39</td>\n",
       "      <td>State-gov</td>\n",
       "      <td>77516</td>\n",
       "      <td>Bachelors</td>\n",
       "      <td>13</td>\n",
       "      <td>Never-married</td>\n",
       "      <td>Adm-clerical</td>\n",
       "      <td>Not-in-family</td>\n",
       "      <td>White</td>\n",
       "      <td>Male</td>\n",
       "      <td>2174</td>\n",
       "      <td>0</td>\n",
       "      <td>40</td>\n",
       "      <td>United-States</td>\n",
       "      <td>&lt;=50K</td>\n",
       "    </tr>\n",
       "    <tr>\n",
       "      <th>1</th>\n",
       "      <td>50</td>\n",
       "      <td>Self-emp-not-inc</td>\n",
       "      <td>83311</td>\n",
       "      <td>Bachelors</td>\n",
       "      <td>13</td>\n",
       "      <td>Married-civ-spouse</td>\n",
       "      <td>Exec-managerial</td>\n",
       "      <td>Husband</td>\n",
       "      <td>White</td>\n",
       "      <td>Male</td>\n",
       "      <td>0</td>\n",
       "      <td>0</td>\n",
       "      <td>13</td>\n",
       "      <td>United-States</td>\n",
       "      <td>&lt;=50K</td>\n",
       "    </tr>\n",
       "    <tr>\n",
       "      <th>2</th>\n",
       "      <td>38</td>\n",
       "      <td>Private</td>\n",
       "      <td>215646</td>\n",
       "      <td>HS-grad</td>\n",
       "      <td>9</td>\n",
       "      <td>Divorced</td>\n",
       "      <td>Handlers-cleaners</td>\n",
       "      <td>Not-in-family</td>\n",
       "      <td>White</td>\n",
       "      <td>Male</td>\n",
       "      <td>0</td>\n",
       "      <td>0</td>\n",
       "      <td>40</td>\n",
       "      <td>United-States</td>\n",
       "      <td>&lt;=50K</td>\n",
       "    </tr>\n",
       "    <tr>\n",
       "      <th>3</th>\n",
       "      <td>53</td>\n",
       "      <td>Private</td>\n",
       "      <td>234721</td>\n",
       "      <td>11th</td>\n",
       "      <td>7</td>\n",
       "      <td>Married-civ-spouse</td>\n",
       "      <td>Handlers-cleaners</td>\n",
       "      <td>Husband</td>\n",
       "      <td>Black</td>\n",
       "      <td>Male</td>\n",
       "      <td>0</td>\n",
       "      <td>0</td>\n",
       "      <td>40</td>\n",
       "      <td>United-States</td>\n",
       "      <td>&lt;=50K</td>\n",
       "    </tr>\n",
       "    <tr>\n",
       "      <th>4</th>\n",
       "      <td>28</td>\n",
       "      <td>Private</td>\n",
       "      <td>338409</td>\n",
       "      <td>Bachelors</td>\n",
       "      <td>13</td>\n",
       "      <td>Married-civ-spouse</td>\n",
       "      <td>Prof-specialty</td>\n",
       "      <td>Wife</td>\n",
       "      <td>Black</td>\n",
       "      <td>Female</td>\n",
       "      <td>0</td>\n",
       "      <td>0</td>\n",
       "      <td>40</td>\n",
       "      <td>Cuba</td>\n",
       "      <td>&lt;=50K</td>\n",
       "    </tr>\n",
       "  </tbody>\n",
       "</table>\n",
       "</div>"
      ],
      "text/plain": [
       "   age          workclass  fnlwgt   education  educational-num  \\\n",
       "0   39          State-gov   77516   Bachelors               13   \n",
       "1   50   Self-emp-not-inc   83311   Bachelors               13   \n",
       "2   38            Private  215646     HS-grad                9   \n",
       "3   53            Private  234721        11th                7   \n",
       "4   28            Private  338409   Bachelors               13   \n",
       "\n",
       "        marital-status          occupation    relationship    race   gender  \\\n",
       "0        Never-married        Adm-clerical   Not-in-family   White     Male   \n",
       "1   Married-civ-spouse     Exec-managerial         Husband   White     Male   \n",
       "2             Divorced   Handlers-cleaners   Not-in-family   White     Male   \n",
       "3   Married-civ-spouse   Handlers-cleaners         Husband   Black     Male   \n",
       "4   Married-civ-spouse      Prof-specialty            Wife   Black   Female   \n",
       "\n",
       "   capital-gain  capital-loss  hours-per-week  native-country  income  \n",
       "0          2174             0              40   United-States   <=50K  \n",
       "1             0             0              13   United-States   <=50K  \n",
       "2             0             0              40   United-States   <=50K  \n",
       "3             0             0              40   United-States   <=50K  \n",
       "4             0             0              40            Cuba   <=50K  "
      ]
     },
     "execution_count": 136,
     "metadata": {},
     "output_type": "execute_result"
    }
   ],
   "source": [
    "# load the dataset\n",
    "url_data = 'https://archive.ics.uci.edu/ml/machine-learning-databases/adult/adult.data'\n",
    "\n",
    "column_names = ['age', 'workclass', 'fnlwgt', 'education', 'educational-num','marital-status',\n",
    "                'occupation', 'relationship', 'race', 'gender','capital-gain', 'capital-loss', \n",
    "                'hours-per-week', 'native-country','income']\n",
    "\n",
    "\n",
    "df = pd.read_csv(url_data, names=column_names)\n",
    "df.head()"
   ]
  },
  {
   "cell_type": "markdown",
   "id": "eB4f6cha2ZnY",
   "metadata": {
    "id": "eB4f6cha2ZnY"
   },
   "source": [
    "Provide a **description** of the dataset in pandas"
   ]
  },
  {
   "cell_type": "code",
   "execution_count": 137,
   "id": "fd28514d",
   "metadata": {
    "ExecuteTime": {
     "end_time": "2022-11-03T15:43:56.088170Z",
     "start_time": "2022-11-03T15:43:56.017050Z"
    },
    "id": "fd28514d"
   },
   "outputs": [
    {
     "data": {
      "text/html": [
       "<div>\n",
       "<style scoped>\n",
       "    .dataframe tbody tr th:only-of-type {\n",
       "        vertical-align: middle;\n",
       "    }\n",
       "\n",
       "    .dataframe tbody tr th {\n",
       "        vertical-align: top;\n",
       "    }\n",
       "\n",
       "    .dataframe thead th {\n",
       "        text-align: right;\n",
       "    }\n",
       "</style>\n",
       "<table border=\"1\" class=\"dataframe\">\n",
       "  <thead>\n",
       "    <tr style=\"text-align: right;\">\n",
       "      <th></th>\n",
       "      <th>age</th>\n",
       "      <th>fnlwgt</th>\n",
       "      <th>educational-num</th>\n",
       "      <th>capital-gain</th>\n",
       "      <th>capital-loss</th>\n",
       "      <th>hours-per-week</th>\n",
       "    </tr>\n",
       "  </thead>\n",
       "  <tbody>\n",
       "    <tr>\n",
       "      <th>count</th>\n",
       "      <td>32561.000000</td>\n",
       "      <td>3.256100e+04</td>\n",
       "      <td>32561.000000</td>\n",
       "      <td>32561.000000</td>\n",
       "      <td>32561.000000</td>\n",
       "      <td>32561.000000</td>\n",
       "    </tr>\n",
       "    <tr>\n",
       "      <th>mean</th>\n",
       "      <td>38.581647</td>\n",
       "      <td>1.897784e+05</td>\n",
       "      <td>10.080679</td>\n",
       "      <td>1077.648844</td>\n",
       "      <td>87.303830</td>\n",
       "      <td>40.437456</td>\n",
       "    </tr>\n",
       "    <tr>\n",
       "      <th>std</th>\n",
       "      <td>13.640433</td>\n",
       "      <td>1.055500e+05</td>\n",
       "      <td>2.572720</td>\n",
       "      <td>7385.292085</td>\n",
       "      <td>402.960219</td>\n",
       "      <td>12.347429</td>\n",
       "    </tr>\n",
       "    <tr>\n",
       "      <th>min</th>\n",
       "      <td>17.000000</td>\n",
       "      <td>1.228500e+04</td>\n",
       "      <td>1.000000</td>\n",
       "      <td>0.000000</td>\n",
       "      <td>0.000000</td>\n",
       "      <td>1.000000</td>\n",
       "    </tr>\n",
       "    <tr>\n",
       "      <th>25%</th>\n",
       "      <td>28.000000</td>\n",
       "      <td>1.178270e+05</td>\n",
       "      <td>9.000000</td>\n",
       "      <td>0.000000</td>\n",
       "      <td>0.000000</td>\n",
       "      <td>40.000000</td>\n",
       "    </tr>\n",
       "    <tr>\n",
       "      <th>50%</th>\n",
       "      <td>37.000000</td>\n",
       "      <td>1.783560e+05</td>\n",
       "      <td>10.000000</td>\n",
       "      <td>0.000000</td>\n",
       "      <td>0.000000</td>\n",
       "      <td>40.000000</td>\n",
       "    </tr>\n",
       "    <tr>\n",
       "      <th>75%</th>\n",
       "      <td>48.000000</td>\n",
       "      <td>2.370510e+05</td>\n",
       "      <td>12.000000</td>\n",
       "      <td>0.000000</td>\n",
       "      <td>0.000000</td>\n",
       "      <td>45.000000</td>\n",
       "    </tr>\n",
       "    <tr>\n",
       "      <th>max</th>\n",
       "      <td>90.000000</td>\n",
       "      <td>1.484705e+06</td>\n",
       "      <td>16.000000</td>\n",
       "      <td>99999.000000</td>\n",
       "      <td>4356.000000</td>\n",
       "      <td>99.000000</td>\n",
       "    </tr>\n",
       "  </tbody>\n",
       "</table>\n",
       "</div>"
      ],
      "text/plain": [
       "                age        fnlwgt  educational-num  capital-gain  \\\n",
       "count  32561.000000  3.256100e+04     32561.000000  32561.000000   \n",
       "mean      38.581647  1.897784e+05        10.080679   1077.648844   \n",
       "std       13.640433  1.055500e+05         2.572720   7385.292085   \n",
       "min       17.000000  1.228500e+04         1.000000      0.000000   \n",
       "25%       28.000000  1.178270e+05         9.000000      0.000000   \n",
       "50%       37.000000  1.783560e+05        10.000000      0.000000   \n",
       "75%       48.000000  2.370510e+05        12.000000      0.000000   \n",
       "max       90.000000  1.484705e+06        16.000000  99999.000000   \n",
       "\n",
       "       capital-loss  hours-per-week  \n",
       "count  32561.000000    32561.000000  \n",
       "mean      87.303830       40.437456  \n",
       "std      402.960219       12.347429  \n",
       "min        0.000000        1.000000  \n",
       "25%        0.000000       40.000000  \n",
       "50%        0.000000       40.000000  \n",
       "75%        0.000000       45.000000  \n",
       "max     4356.000000       99.000000  "
      ]
     },
     "execution_count": 137,
     "metadata": {},
     "output_type": "execute_result"
    }
   ],
   "source": [
    "# Describe the dataframe\n",
    "\n",
    "df.describe()"
   ]
  },
  {
   "cell_type": "markdown",
   "id": "2HBVR_f7278_",
   "metadata": {
    "id": "2HBVR_f7278_"
   },
   "source": [
    "Find out and print the unique values per column "
   ]
  },
  {
   "cell_type": "code",
   "execution_count": 138,
   "id": "90e9baa3",
   "metadata": {
    "ExecuteTime": {
     "end_time": "2022-11-03T15:43:56.344632Z",
     "start_time": "2022-11-03T15:43:56.090976Z"
    },
    "id": "90e9baa3"
   },
   "outputs": [
    {
     "name": "stdout",
     "output_type": "stream",
     "text": [
      "age 73 \n",
      " [39 50 38 53 28 37 49 52 31 42 30 23 32 40 34 25 43 54 35 59 56 19 20 45\n",
      " 22 48 21 24 57 44 41 29 18 47 46 36 79 27 67 33 76 17 55 61 70 64 71 68\n",
      " 66 51 58 26 60 90 75 65 77 62 63 80 72 74 69 73 81 78 88 82 83 84 85 86\n",
      " 87] \n",
      "\n",
      "workclass 9 \n",
      " [' State-gov' ' Self-emp-not-inc' ' Private' ' Federal-gov' ' Local-gov'\n",
      " ' ?' ' Self-emp-inc' ' Without-pay' ' Never-worked'] \n",
      "\n",
      "fnlwgt 21648 \n",
      " [ 77516  83311 215646 ...  34066  84661 257302] \n",
      "\n",
      "education 16 \n",
      " [' Bachelors' ' HS-grad' ' 11th' ' Masters' ' 9th' ' Some-college'\n",
      " ' Assoc-acdm' ' Assoc-voc' ' 7th-8th' ' Doctorate' ' Prof-school'\n",
      " ' 5th-6th' ' 10th' ' 1st-4th' ' Preschool' ' 12th'] \n",
      "\n",
      "educational-num 16 \n",
      " [13  9  7 14  5 10 12 11  4 16 15  3  6  2  1  8] \n",
      "\n",
      "marital-status 7 \n",
      " [' Never-married' ' Married-civ-spouse' ' Divorced'\n",
      " ' Married-spouse-absent' ' Separated' ' Married-AF-spouse' ' Widowed'] \n",
      "\n",
      "occupation 15 \n",
      " [' Adm-clerical' ' Exec-managerial' ' Handlers-cleaners' ' Prof-specialty'\n",
      " ' Other-service' ' Sales' ' Craft-repair' ' Transport-moving'\n",
      " ' Farming-fishing' ' Machine-op-inspct' ' Tech-support' ' ?'\n",
      " ' Protective-serv' ' Armed-Forces' ' Priv-house-serv'] \n",
      "\n",
      "relationship 6 \n",
      " [' Not-in-family' ' Husband' ' Wife' ' Own-child' ' Unmarried'\n",
      " ' Other-relative'] \n",
      "\n",
      "race 5 \n",
      " [' White' ' Black' ' Asian-Pac-Islander' ' Amer-Indian-Eskimo' ' Other'] \n",
      "\n",
      "gender 2 \n",
      " [' Male' ' Female'] \n",
      "\n",
      "capital-gain 119 \n",
      " [ 2174     0 14084  5178  5013  2407 14344 15024  7688 34095  4064  4386\n",
      "  7298  1409  3674  1055  3464  2050  2176   594 20051  6849  4101  1111\n",
      "  8614  3411  2597 25236  4650  9386  2463  3103 10605  2964  3325  2580\n",
      "  3471  4865 99999  6514  1471  2329  2105  2885 25124 10520  2202  2961\n",
      " 27828  6767  2228  1506 13550  2635  5556  4787  3781  3137  3818  3942\n",
      "   914   401  2829  2977  4934  2062  2354  5455 15020  1424  3273 22040\n",
      "  4416  3908 10566   991  4931  1086  7430  6497   114  7896  2346  3418\n",
      "  3432  2907  1151  2414  2290 15831 41310  4508  2538  3456  6418  1848\n",
      "  3887  5721  9562  1455  2036  1831 11678  2936  2993  7443  6360  1797\n",
      "  1173  4687  6723  2009  6097  2653  1639 18481  7978  2387  5060] \n",
      "\n",
      "capital-loss 92 \n",
      " [   0 2042 1408 1902 1573 1887 1719 1762 1564 2179 1816 1980 1977 1876\n",
      " 1340 2206 1741 1485 2339 2415 1380 1721 2051 2377 1669 2352 1672  653\n",
      " 2392 1504 2001 1590 1651 1628 1848 1740 2002 1579 2258 1602  419 2547\n",
      " 2174 2205 1726 2444 1138 2238  625  213 1539  880 1668 1092 1594 3004\n",
      " 2231 1844  810 2824 2559 2057 1974  974 2149 1825 1735 1258 2129 2603\n",
      " 2282  323 4356 2246 1617 1648 2489 3770 1755 3683 2267 2080 2457  155\n",
      " 3900 2201 1944 2467 2163 2754 2472 1411] \n",
      "\n",
      "hours-per-week 94 \n",
      " [40 13 16 45 50 80 30 35 60 20 52 44 15 25 38 43 55 48 58 32 70  2 22 56\n",
      " 41 28 36 24 46 42 12 65  1 10 34 75 98 33 54  8  6 64 19 18 72  5  9 47\n",
      " 37 21 26 14  4 59  7 99 53 39 62 57 78 90 66 11 49 84  3 17 68 27 85 31\n",
      " 51 77 63 23 87 88 73 89 97 94 29 96 67 82 86 91 81 76 92 61 74 95] \n",
      "\n",
      "native-country 42 \n",
      " [' United-States' ' Cuba' ' Jamaica' ' India' ' ?' ' Mexico' ' South'\n",
      " ' Puerto-Rico' ' Honduras' ' England' ' Canada' ' Germany' ' Iran'\n",
      " ' Philippines' ' Italy' ' Poland' ' Columbia' ' Cambodia' ' Thailand'\n",
      " ' Ecuador' ' Laos' ' Taiwan' ' Haiti' ' Portugal' ' Dominican-Republic'\n",
      " ' El-Salvador' ' France' ' Guatemala' ' China' ' Japan' ' Yugoslavia'\n",
      " ' Peru' ' Outlying-US(Guam-USVI-etc)' ' Scotland' ' Trinadad&Tobago'\n",
      " ' Greece' ' Nicaragua' ' Vietnam' ' Hong' ' Ireland' ' Hungary'\n",
      " ' Holand-Netherlands'] \n",
      "\n",
      "income 2 \n",
      " [' <=50K' ' >50K'] \n",
      "\n"
     ]
    }
   ],
   "source": [
    "# Print out unique values per column\n",
    "\n",
    "for col, data in df.items() :\n",
    "    out = pd.unique(data)\n",
    "    print(col, len(out) ,'\\n' ,out, '\\n')"
   ]
  },
  {
   "cell_type": "markdown",
   "id": "RRuQQy913SoQ",
   "metadata": {
    "id": "RRuQQy913SoQ"
   },
   "source": [
    "Compare the columns 'education' and 'educational-num', drop the column 'education'."
   ]
  },
  {
   "cell_type": "code",
   "execution_count": 139,
   "id": "2e038ac8",
   "metadata": {
    "ExecuteTime": {
     "end_time": "2022-11-03T15:43:56.379164Z",
     "start_time": "2022-11-03T15:43:56.346004Z"
    },
    "id": "2e038ac8"
   },
   "outputs": [],
   "source": [
    "df['education'].compare(df['educational-num'])\n",
    "\n",
    "df = df.drop('education', axis=1)"
   ]
  },
  {
   "cell_type": "markdown",
   "id": "JimwucSf3lyy",
   "metadata": {
    "id": "JimwucSf3lyy"
   },
   "source": [
    "Remove whitespaces at the beginning and end of all attributes of type String and drop the rows containing '?'"
   ]
  },
  {
   "cell_type": "code",
   "execution_count": 141,
   "id": "89201c27",
   "metadata": {
    "ExecuteTime": {
     "end_time": "2022-11-03T15:43:56.403425Z",
     "start_time": "2022-11-03T15:43:56.381212Z"
    },
    "id": "89201c27"
   },
   "outputs": [],
   "source": [
    "# Drop rows containing '?'\n",
    "df = df.applymap(lambda x : x.strip() if isinstance(x, str) else x)\n",
    "    \n",
    "df['native-country'].unique()\n",
    "\n",
    "#df['native-country'].str.contains('?', regex=False)\n",
    "mask = (df == '?').any(axis=1)\n",
    "\n",
    "df = df.drop(df[mask].index)\n"
   ]
  },
  {
   "cell_type": "markdown",
   "id": "bHdF-d793sVP",
   "metadata": {
    "id": "bHdF-d793sVP"
   },
   "source": [
    "Provide a **description** of your dataframe again. Did the number of rows reduce?"
   ]
  },
  {
   "cell_type": "code",
   "execution_count": 131,
   "id": "3e8030a8",
   "metadata": {
    "ExecuteTime": {
     "end_time": "2022-11-03T15:43:56.477254Z",
     "start_time": "2022-11-03T15:43:56.405609Z"
    },
    "id": "3e8030a8"
   },
   "outputs": [
    {
     "data": {
      "text/plain": [
       "30162"
      ]
     },
     "execution_count": 131,
     "metadata": {},
     "output_type": "execute_result"
    }
   ],
   "source": [
    "# A description of your dataframe\n",
    "df.describe()\n",
    "# We dropped around 20.000 rows"
   ]
  },
  {
   "cell_type": "markdown",
   "id": "ZvNo73a939FW",
   "metadata": {
    "id": "ZvNo73a939FW"
   },
   "source": [
    "Make a new column with 'age-groups' and drop 'age'\n"
   ]
  },
  {
   "cell_type": "code",
   "execution_count": 142,
   "id": "a27c6da5",
   "metadata": {
    "ExecuteTime": {
     "end_time": "2022-11-04T10:04:32.476825Z",
     "start_time": "2022-11-04T10:04:32.463609Z"
    },
    "id": "a27c6da5"
   },
   "outputs": [],
   "source": [
    "# Make new column with 'age-groups' and drop 'age'\n",
    "age_bins = [0, 18, 25, 35, 45, 55, 65, 100]"
   ]
  },
  {
   "cell_type": "markdown",
   "id": "OJUuwlVO4SnK",
   "metadata": {
    "id": "OJUuwlVO4SnK"
   },
   "source": [
    "Print two lists containing:\n",
    "\n",
    "\n",
    "*   Only numerical columns\n",
    "*   Only Categorical columns\n",
    "\n",
    "\n"
   ]
  },
  {
   "cell_type": "code",
   "execution_count": null,
   "id": "02bd7187",
   "metadata": {
    "ExecuteTime": {
     "end_time": "2022-11-03T15:43:56.498670Z",
     "start_time": "2022-11-03T15:43:56.494632Z"
    },
    "id": "02bd7187"
   },
   "outputs": [],
   "source": [
    "# get new columns, cat and num cols\n"
   ]
  },
  {
   "cell_type": "markdown",
   "id": "yhgSz9Z-4iuA",
   "metadata": {
    "id": "yhgSz9Z-4iuA"
   },
   "source": [
    "Normalize all numerical columns"
   ]
  },
  {
   "cell_type": "code",
   "execution_count": null,
   "id": "b22fbd1d",
   "metadata": {
    "ExecuteTime": {
     "end_time": "2022-11-03T15:43:56.518010Z",
     "start_time": "2022-11-03T15:43:56.502704Z"
    },
    "id": "b22fbd1d"
   },
   "outputs": [],
   "source": [
    "# Normalize all numerical columns\n"
   ]
  },
  {
   "cell_type": "markdown",
   "id": "mCU6fsnx4m2i",
   "metadata": {
    "id": "mCU6fsnx4m2i"
   },
   "source": [
    "Plot the column distributions (one plot for each column)\n",
    "* Hint: lookup [Seaborn histplot](https://seaborn.pydata.org/generated/seaborn.histplot.html) for numerical columns\n",
    "* Hint: lookup [Seaborn countplot](https://seaborn.pydata.org/generated/seaborn.countplot.html) for categorical columns"
   ]
  },
  {
   "cell_type": "code",
   "execution_count": null,
   "id": "3fd055a0",
   "metadata": {
    "ExecuteTime": {
     "end_time": "2022-11-03T15:43:58.788216Z",
     "start_time": "2022-11-03T15:43:56.519513Z"
    },
    "id": "3fd055a0"
   },
   "outputs": [],
   "source": [
    "# Plot distributions of columns\n"
   ]
  },
  {
   "cell_type": "markdown",
   "id": "iOmYKOhy5_pG",
   "metadata": {
    "id": "iOmYKOhy5_pG"
   },
   "source": [
    "Label encode your categorical columns and print label encodings for each variable"
   ]
  },
  {
   "cell_type": "code",
   "execution_count": null,
   "id": "6f86e819",
   "metadata": {
    "ExecuteTime": {
     "end_time": "2022-11-03T15:44:40.355662Z",
     "start_time": "2022-11-03T15:44:40.327074Z"
    },
    "id": "6f86e819"
   },
   "outputs": [],
   "source": [
    "# Label encoding of categorical columns\n",
    "from sklearn.preprocessing import LabelEncoder\n",
    "\n",
    "\n",
    "# Print label encodings for each variable\n"
   ]
  },
  {
   "cell_type": "markdown",
   "id": "BVzioifO6RBG",
   "metadata": {
    "id": "BVzioifO6RBG"
   },
   "source": [
    "Plot heatmap of cross correlations\n",
    "\n",
    "Hint: lookup [Seaborn heatmap](https://seaborn.pydata.org/generated/seaborn.heatmap.html) and [pairwise correlation of columns](https://pandas.pydata.org/docs/reference/api/pandas.DataFrame.corr.html)\n",
    "\n",
    "Compute the correlation of each column with the target column 'income'"
   ]
  },
  {
   "cell_type": "code",
   "execution_count": null,
   "id": "a2ae31ea",
   "metadata": {
    "ExecuteTime": {
     "end_time": "2022-11-03T15:44:40.648070Z",
     "start_time": "2022-11-03T15:44:40.625381Z"
    },
    "id": "a2ae31ea"
   },
   "outputs": [],
   "source": [
    "# Heatmap of cross correlations\n",
    "\n",
    "\n",
    "# correlation of columns with target 'income' (print them)\n"
   ]
  },
  {
   "cell_type": "markdown",
   "id": "b6BWd7W369eo",
   "metadata": {
    "id": "b6BWd7W369eo"
   },
   "source": [
    "Provide a pairplot of columns where the correlation with 'income' is higher than 0.1:\n",
    "\n",
    "\n",
    "* Hint: See [Plot pairwise relationships in a dataset](https://seaborn.pydata.org/generated/seaborn.pairplot.html)\n",
    "* Hint: Subsample the data for plotting (otherwise it will take forever to render), you can use 1000 random samples\n",
    "* Hint: Set hue='income' in sns.pairplot\n",
    "\n",
    "\n"
   ]
  },
  {
   "cell_type": "code",
   "execution_count": null,
   "id": "b516e8da",
   "metadata": {
    "ExecuteTime": {
     "end_time": "2022-11-03T15:44:50.511620Z",
     "start_time": "2022-11-03T15:44:40.649838Z"
    },
    "id": "b516e8da"
   },
   "outputs": [],
   "source": [
    "# Pairplot of columns correlated with income\n"
   ]
  },
  {
   "cell_type": "markdown",
   "id": "MUkLLQir5Ns3",
   "metadata": {
    "id": "MUkLLQir5Ns3"
   },
   "source": [
    "Do a [one-hot encoding](https://en.wikipedia.org/wiki/One-hot) of all categorical columns.  \n",
    "Hint: See [pandas.get_dummies](https://pandas.pydata.org/docs/reference/api/pandas.get_dummies.html).\n",
    "* Print the first five rows of your new dataframe."
   ]
  },
  {
   "cell_type": "code",
   "execution_count": null,
   "id": "8b1bd0dd",
   "metadata": {},
   "outputs": [],
   "source": [
    "# One-hot encoding"
   ]
  },
  {
   "cell_type": "markdown",
   "id": "boqe51Zp7eeQ",
   "metadata": {
    "id": "boqe51Zp7eeQ"
   },
   "source": [
    "Split the data into trainset, valset (1000 samples) and testset (10000 samples). Print the shape of your training, validation and test data. "
   ]
  },
  {
   "cell_type": "code",
   "execution_count": null,
   "id": "841bf999",
   "metadata": {
    "ExecuteTime": {
     "end_time": "2022-11-03T15:43:58.910682Z",
     "start_time": "2022-11-03T15:43:58.846159Z"
    },
    "id": "841bf999"
   },
   "outputs": [],
   "source": [
    "# Split the data into trainset, valset (1000 samples) and testset (10000 samples)\n"
   ]
  },
  {
   "cell_type": "markdown",
   "id": "5RfOk6Y07xPu",
   "metadata": {
    "id": "5RfOk6Y07xPu"
   },
   "source": [
    "Write a function that splits the dataframe into X,Y, where Y can be any of the (possibly one-hot encoded) columns "
   ]
  },
  {
   "cell_type": "code",
   "execution_count": null,
   "id": "839f3b30",
   "metadata": {
    "ExecuteTime": {
     "end_time": "2022-11-03T15:43:58.918672Z",
     "start_time": "2022-11-03T15:43:58.912161Z"
    },
    "id": "839f3b30",
    "outputId": "fccfc1e6-3eb9-4a7d-81ca-e38ab707fadc"
   },
   "outputs": [
    {
     "name": "stdout",
     "output_type": "stream",
     "text": [
      "(19169, 96) (19169, 2)\n"
     ]
    }
   ],
   "source": [
    "# Write a function thats splits the dataframe into X,Y, where Y can be any column\n",
    "def split_xy(df, colname):\n",
    "\n",
    "    return X, Y\n",
    "\n",
    "# X, Y = split_xy(df_train, 'income') // \n",
    "# print(X.shape, Y.shape) // "
   ]
  },
  {
   "cell_type": "markdown",
   "id": "u1YU9lXU8CeE",
   "metadata": {
    "id": "u1YU9lXU8CeE"
   },
   "source": [
    "Write and train a linear classifier with tensorflow keras to predict 'income'\n",
    "\n",
    "\n",
    "*   Loss: CategoricalCrossentropy\n",
    "\n",
    "\n",
    "\n"
   ]
  },
  {
   "cell_type": "code",
   "execution_count": null,
   "id": "85737792",
   "metadata": {
    "ExecuteTime": {
     "end_time": "2022-11-03T15:44:20.318276Z",
     "start_time": "2022-11-03T15:44:20.226197Z"
    },
    "id": "85737792"
   },
   "outputs": [],
   "source": [
    "# Train a linear classifier to predict 'income'\n"
   ]
  },
  {
   "cell_type": "markdown",
   "id": "6KmIuFs48b2i",
   "metadata": {
    "id": "6KmIuFs48b2i"
   },
   "source": [
    "Print the classification report and confusion matrix "
   ]
  },
  {
   "cell_type": "code",
   "execution_count": null,
   "id": "bf67df53",
   "metadata": {
    "ExecuteTime": {
     "end_time": "2022-11-03T15:44:40.230097Z",
     "start_time": "2022-11-03T15:44:39.788839Z"
    },
    "id": "bf67df53"
   },
   "outputs": [],
   "source": [
    "# Classification report + confusion matrix"
   ]
  },
  {
   "cell_type": "markdown",
   "id": "wLf6NAef8iZP",
   "metadata": {
    "id": "wLf6NAef8iZP"
   },
   "source": [
    "* Now try some other models such as K-nearest neighbors, Random Forest classifier, and Support Vector Machine (code for importing the classifiers is given below)\n",
    "* Print the classification report and confusion matrix of each classifier "
   ]
  },
  {
   "cell_type": "code",
   "execution_count": null,
   "id": "ce381889",
   "metadata": {
    "ExecuteTime": {
     "end_time": "2022-11-03T16:00:16.150073Z",
     "start_time": "2022-11-03T15:59:44.905152Z"
    },
    "id": "ce381889"
   },
   "outputs": [],
   "source": [
    "# Try out non-linear models\n",
    "from sklearn.neighbors import KNeighborsClassifier\n",
    "from sklearn.ensemble import RandomForestClassifier\n",
    "from sklearn.svm import SVC\n",
    "\n"
   ]
  },
  {
   "cell_type": "markdown",
   "id": "7ghSlw-P9W_M",
   "metadata": {
    "id": "7ghSlw-P9W_M"
   },
   "source": [
    "Train a neural network for 50 epochs with:\n",
    "* An input layer\n",
    "* Two dense layers, where between the two dense layers is a dropout layer\n",
    "* Input -> Dense -> Dropout-> Dense\n",
    "\n",
    "* Loss: CategoricalCrossentropy\n",
    "* Metrics: 'accuracy'"
   ]
  },
  {
   "cell_type": "code",
   "execution_count": null,
   "id": "26c86718",
   "metadata": {
    "ExecuteTime": {
     "end_time": "2022-11-03T16:04:28.462851Z",
     "start_time": "2022-11-03T16:04:06.219740Z"
    },
    "id": "26c86718",
    "scrolled": true
   },
   "outputs": [],
   "source": [
    "# Try out non-linear NN\n"
   ]
  },
  {
   "cell_type": "markdown",
   "id": "lEVw7G7G-HKS",
   "metadata": {
    "id": "lEVw7G7G-HKS"
   },
   "source": [
    "Print the classification report and confusion matrix "
   ]
  },
  {
   "cell_type": "code",
   "execution_count": null,
   "id": "0f4bd85f",
   "metadata": {
    "ExecuteTime": {
     "end_time": "2022-11-03T16:04:28.928225Z",
     "start_time": "2022-11-03T16:04:28.466397Z"
    },
    "id": "0f4bd85f"
   },
   "outputs": [],
   "source": []
  },
  {
   "cell_type": "markdown",
   "id": "b696d01b",
   "metadata": {},
   "source": [
    "Did the non-linear classifiers improve over the linear classifier? Interprete the results."
   ]
  }
 ],
 "metadata": {
  "colab": {
   "collapsed_sections": [],
   "provenance": []
  },
  "kernelspec": {
   "display_name": "Python 3 (ipykernel)",
   "language": "python",
   "name": "python3"
  },
  "language_info": {
   "codemirror_mode": {
    "name": "ipython",
    "version": 3
   },
   "file_extension": ".py",
   "mimetype": "text/x-python",
   "name": "python",
   "nbconvert_exporter": "python",
   "pygments_lexer": "ipython3",
   "version": "3.10.8"
  }
 },
 "nbformat": 4,
 "nbformat_minor": 5
}
