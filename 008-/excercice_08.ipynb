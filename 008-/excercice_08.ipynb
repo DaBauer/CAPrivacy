{
 "cells": [
  {
   "cell_type": "markdown",
   "metadata": {
    "id": "A34awEqHFh6j"
   },
   "source": [
    "\n",
    "Johannes Schade (5564109)\n",
    "\n",
    "Yolanda Seifert (5477060)\n",
    "\n",
    "David Bauer (5398867)"
   ]
  },
  {
   "cell_type": "markdown",
   "metadata": {
    "id": "GjYNJAVk-sPV"
   },
   "source": [
    "# Variations on private logistic regression:\n",
    "\n",
    "\n"
   ]
  },
  {
   "cell_type": "code",
   "execution_count": 1,
   "metadata": {
    "ExecuteTime": {
     "end_time": "2022-12-02T12:36:01.493934Z",
     "start_time": "2022-12-02T12:35:59.951883Z"
    },
    "executionInfo": {
     "elapsed": 260,
     "status": "ok",
     "timestamp": 1673001103092,
     "user": {
      "displayName": "David Bauer",
      "userId": "03750147589111543786"
     },
     "user_tz": -60
    },
    "id": "355ed73b"
   },
   "outputs": [
    {
     "name": "stderr",
     "output_type": "stream",
     "text": [
      "2023-01-06 14:30:53.344206: I tensorflow/core/platform/cpu_feature_guard.cc:193] This TensorFlow binary is optimized with oneAPI Deep Neural Network Library (oneDNN) to use the following CPU instructions in performance-critical operations:  AVX2 FMA\n",
      "To enable them in other operations, rebuild TensorFlow with the appropriate compiler flags.\n"
     ]
    }
   ],
   "source": [
    "import numpy as np\n",
    "\n",
    "import tensorflow as tf\n",
    "from tensorflow.keras import Input, Model, layers, losses, optimizers\n",
    "from sklearn.model_selection import train_test_split\n",
    "from tensorflow.keras.models import Sequential\n",
    "from tensorflow.keras.layers import Dense\n",
    "from tensorflow.keras.layers import InputLayer\n",
    "\n",
    "\n",
    "from matplotlib import pyplot as plt"
   ]
  },
  {
   "cell_type": "markdown",
   "metadata": {
    "id": "-Kh8Y6qDUHta"
   },
   "source": [
    "# 1. Preparatory task \n",
    "\n",
    "* Load the MNIST dataset\n",
    "* Note that you need a **binarized** version of the MNIST dataset. Also, you need to keep only **2** classes out of ten, namely 5 and 8 \n",
    "* Rescale the feature values such that each sample has **Euclidean norm** $≤ 1$.\n",
    "* Split the dataset into train/test/rest sets (10000/1000/-1). \n",
    "* Implement in Tensorflow a regularized logistic regression (L2 regularization), i.e. the solution to:\n",
    "$w^{*} = \\text{argmin}_{w} \\frac{1}{2} \\lambda w^{T}w + \\frac{1}{n} \\sum_{i = 1}^{n} \\log(1 + \\exp(-y_{i}w^{T}x_{i})) $ \n",
    "* Hint: You need *softmax/sigmoid* and *cross-entropy*! \n"
   ]
  },
  {
   "cell_type": "code",
   "execution_count": 58,
   "metadata": {
    "executionInfo": {
     "elapsed": 744,
     "status": "ok",
     "timestamp": 1673005716780,
     "user": {
      "displayName": "David Bauer",
      "userId": "03750147589111543786"
     },
     "user_tz": -60
    },
    "id": "Nau1uRlQUFv8"
   },
   "outputs": [],
   "source": [
    "# Code for Excercise 1\n",
    "(x_train, y_train), (x_test, y_test) = tf.keras.datasets.mnist.load_data()\n",
    "\n",
    "indexes_train = [i for i in range(len(y_train)) if y_train[i] in [5,8] ]\n",
    "indexes_test = [i for i in range(len(y_test)) if y_test[i] in [5,8] ]\n",
    "\n",
    "x_train, y_train = np.array([x_train[i] for i in indexes_train]), np.array([[y_train[i]] for i in indexes_train])\n",
    "\n",
    "\n",
    "# normalize\n",
    "#x_train = x_train/255.\n",
    "\n",
    "# binarize\n",
    "thres = 128.\n",
    "x_train = np.where(x_train > thres, 1, 0)\n",
    "\n",
    "#x_train = x_train.reshape((x_train.shape[0], x_train.shape[1]*x_train.shape[2]))\n",
    "\n",
    "max = np.linalg.norm(x_train, axis=0).max()\n",
    "x_train = np.divide(x_train, max)\n",
    "\n",
    "# test-train-split\n",
    "Xtrain, xtest, Ytrain, ytest = train_test_split(x_train, y_train, train_size = 10000)\n",
    "Xtest, xrest, Ytest, yrest = train_test_split(Xtrain, Ytrain, train_size = 1000)\n",
    "\n",
    "# reformulate y's\n",
    "Ytrain = np.where(Ytrain > 5, 1, 0)\n",
    "Ytest = np.where(Ytest > 5, 1, 0)\n",
    "\n"
   ]
  },
  {
   "cell_type": "code",
   "execution_count": 59,
   "metadata": {},
   "outputs": [
    {
     "data": {
      "text/plain": [
       "<matplotlib.image.AxesImage at 0x7f66fc7baf80>"
      ]
     },
     "execution_count": 59,
     "metadata": {},
     "output_type": "execute_result"
    },
    {
     "data": {
      "image/png": "[encoded data removed]",
      "text/plain": [
       "<Figure size 640x480 with 1 Axes>"
      ]
     },
     "metadata": {},
     "output_type": "display_data"
    }
   ],
   "source": [
    "plt.imshow(Xtrain[0])"
   ]
  },
  {
   "cell_type": "code",
   "execution_count": 65,
   "metadata": {
    "ExecuteTime": {
     "end_time": "2022-12-16T13:01:23.525695Z",
     "start_time": "2022-12-16T13:01:23.520770Z"
    },
    "colab": {
     "base_uri": "https://localhost:8080/"
    },
    "executionInfo": {
     "elapsed": 8156,
     "status": "ok",
     "timestamp": 1673007528430,
     "user": {
      "displayName": "David Bauer",
      "userId": "03750147589111543786"
     },
     "user_tz": -60
    },
    "id": "cw91mXs4gO1V",
    "outputId": "1ea10b29-071d-49d4-de82-64f04c3eb8ef",
    "scrolled": true,
    "tags": []
   },
   "outputs": [
    {
     "name": "stdout",
     "output_type": "stream",
     "text": [
      "Model: \"sequential_44\"\n",
      "_________________________________________________________________\n",
      " Layer (type)                Output Shape              Param #   \n",
      "=================================================================\n",
      " flatten_35 (Flatten)        (None, 784)               0         \n",
      "                                                                 \n",
      " dense_44 (Dense)            (None, 1)                 785       \n",
      "                                                                 \n",
      " activation_44 (Activation)  (None, 1)                 0         \n",
      "                                                                 \n",
      "=================================================================\n",
      "Total params: 785\n",
      "Trainable params: 785\n",
      "Non-trainable params: 0\n",
      "_________________________________________________________________\n",
      "Epoch 1/20\n",
      "63/63 [==============================] - 1s 5ms/step - loss: 1.4462 - accuracy: 0.5121 - val_loss: 0.8139 - val_accuracy: 0.5360\n",
      "Epoch 2/20\n",
      "63/63 [==============================] - 0s 3ms/step - loss: 0.7267 - accuracy: 0.5155 - val_loss: 0.6944 - val_accuracy: 0.5360\n",
      "Epoch 3/20\n",
      "63/63 [==============================] - 0s 3ms/step - loss: 0.6932 - accuracy: 0.5155 - val_loss: 0.6919 - val_accuracy: 0.5360\n",
      "Epoch 4/20\n",
      "63/63 [==============================] - 0s 3ms/step - loss: 0.6927 - accuracy: 0.5155 - val_loss: 0.6917 - val_accuracy: 0.5360\n",
      "Epoch 5/20\n",
      "63/63 [==============================] - 0s 3ms/step - loss: 0.6927 - accuracy: 0.5155 - val_loss: 0.6916 - val_accuracy: 0.5360\n",
      "Epoch 6/20\n",
      "63/63 [==============================] - 0s 2ms/step - loss: 0.6927 - accuracy: 0.5155 - val_loss: 0.6916 - val_accuracy: 0.5360\n",
      "Epoch 7/20\n",
      "63/63 [==============================] - 0s 3ms/step - loss: 0.6927 - accuracy: 0.5155 - val_loss: 0.6915 - val_accuracy: 0.5360\n",
      "Epoch 8/20\n",
      "63/63 [==============================] - 0s 4ms/step - loss: 0.6927 - accuracy: 0.5155 - val_loss: 0.6915 - val_accuracy: 0.5360\n",
      "Epoch 9/20\n",
      "63/63 [==============================] - 0s 3ms/step - loss: 0.6927 - accuracy: 0.5155 - val_loss: 0.6914 - val_accuracy: 0.5360\n",
      "Epoch 10/20\n",
      "63/63 [==============================] - 0s 3ms/step - loss: 0.6927 - accuracy: 0.5155 - val_loss: 0.6914 - val_accuracy: 0.5360\n",
      "Epoch 11/20\n",
      "63/63 [==============================] - 0s 3ms/step - loss: 0.6927 - accuracy: 0.5155 - val_loss: 0.6915 - val_accuracy: 0.5360\n",
      "Epoch 12/20\n",
      "63/63 [==============================] - 0s 3ms/step - loss: 0.6927 - accuracy: 0.5155 - val_loss: 0.6914 - val_accuracy: 0.5360\n",
      "Epoch 13/20\n",
      "63/63 [==============================] - 0s 3ms/step - loss: 0.6927 - accuracy: 0.5155 - val_loss: 0.6913 - val_accuracy: 0.5360\n",
      "Epoch 14/20\n",
      "63/63 [==============================] - 0s 3ms/step - loss: 0.6927 - accuracy: 0.5155 - val_loss: 0.6913 - val_accuracy: 0.5360\n",
      "Epoch 15/20\n",
      "63/63 [==============================] - 0s 3ms/step - loss: 0.6927 - accuracy: 0.5155 - val_loss: 0.6914 - val_accuracy: 0.5360\n",
      "Epoch 16/20\n",
      "63/63 [==============================] - 0s 3ms/step - loss: 0.6927 - accuracy: 0.5155 - val_loss: 0.6913 - val_accuracy: 0.5360\n",
      "Epoch 17/20\n",
      "63/63 [==============================] - 0s 2ms/step - loss: 0.6927 - accuracy: 0.5155 - val_loss: 0.6914 - val_accuracy: 0.5360\n",
      "Epoch 18/20\n",
      "63/63 [==============================] - 0s 3ms/step - loss: 0.6927 - accuracy: 0.5155 - val_loss: 0.6913 - val_accuracy: 0.5360\n",
      "Epoch 19/20\n",
      "63/63 [==============================] - 0s 3ms/step - loss: 0.6927 - accuracy: 0.5155 - val_loss: 0.6913 - val_accuracy: 0.5360\n",
      "Epoch 20/20\n",
      "63/63 [==============================] - 0s 3ms/step - loss: 0.6927 - accuracy: 0.5155 - val_loss: 0.6914 - val_accuracy: 0.5360\n"
     ]
    }
   ],
   "source": [
    "# Code for Excercise 1\n",
    "lamb = 1\n",
    "learning_rate=0.001\n",
    "\n",
    "def make_log_reg (lamb, learning_rate, verbose=False) :\n",
    "    log_reg = Sequential()\n",
    "    log_reg.add(tf.keras.layers.Flatten())\n",
    "    log_reg.add(Dense(1, kernel_regularizer=tf.keras.regularizers.l2(lamb), use_bias=True))\n",
    "    log_reg.add(tf.keras.layers.Activation(\"sigmoid\"))\n",
    "\n",
    "    log_reg.build(input_shape=(None,28,28))\n",
    "    if verbose : log_reg.summary()\n",
    "\n",
    "    optimizer=tf.keras.optimizers.Adam(learning_rate)\n",
    "    #loss = tf.keras.losses.BinaryCrossentropy(from_logits=False)\n",
    "    loss = tf.keras.losses.BinaryCrossentropy()\n",
    "    log_reg.compile(optimizer=optimizer,\n",
    "                  loss=loss,\n",
    "                  metrics=['accuracy'])\n",
    "    return log_reg\n",
    "\n",
    "def train (log_reg, verbose=False) :\n",
    "    return log_reg.fit(Xtrain, Ytrain, \n",
    "                      epochs=20, batch_size=128,\n",
    "                      validation_split=0.2, \n",
    "                      shuffle=True,\n",
    "                     verbose=verbose)\n",
    "\n",
    "log_reg = make_log_reg(lamb, learning_rate, verbose=True)\n",
    "hist = train(log_reg, verbose=True)"
   ]
  },
  {
   "cell_type": "code",
   "execution_count": 44,
   "metadata": {
    "colab": {
     "base_uri": "https://localhost:8080/"
    },
    "executionInfo": {
     "elapsed": 232,
     "status": "ok",
     "timestamp": 1673005885596,
     "user": {
      "displayName": "David Bauer",
      "userId": "03750147589111543786"
     },
     "user_tz": -60
    },
    "id": "BSZ__PRVzsXp",
    "outputId": "91ac802d-add8-44b1-ebcd-dddbd78d7b3c"
   },
   "outputs": [
    {
     "name": "stdout",
     "output_type": "stream",
     "text": [
      "32/32 [==============================] - 0s 1ms/step\n"
     ]
    }
   ],
   "source": [
    "pred = log_reg.predict(Xtest)"
   ]
  },
  {
   "cell_type": "code",
   "execution_count": 45,
   "metadata": {
    "colab": {
     "base_uri": "https://localhost:8080/",
     "height": 312
    },
    "executionInfo": {
     "elapsed": 477,
     "status": "ok",
     "timestamp": 1673005886994,
     "user": {
      "displayName": "David Bauer",
      "userId": "03750147589111543786"
     },
     "user_tz": -60
    },
    "id": "LVFqoaFU0Jen",
    "outputId": "d3235deb-d5c6-4b84-fd4c-c291c071eb4f"
   },
   "outputs": [
    {
     "ename": "NameError",
     "evalue": "name 'hist' is not defined",
     "output_type": "error",
     "traceback": [
      "\u001b[0;31m---------------------------------------------------------------------------\u001b[0m",
      "\u001b[0;31mNameError\u001b[0m                                 Traceback (most recent call last)",
      "Cell \u001b[0;32mIn[45], line 1\u001b[0m\n\u001b[0;32m----> 1\u001b[0m plt\u001b[38;5;241m.\u001b[39mplot(\u001b[43mhist\u001b[49m\u001b[38;5;241m.\u001b[39mhistory[\u001b[38;5;124m'\u001b[39m\u001b[38;5;124maccuracy\u001b[39m\u001b[38;5;124m'\u001b[39m], label\u001b[38;5;241m=\u001b[39m\u001b[38;5;124m'\u001b[39m\u001b[38;5;124mTrain\u001b[39m\u001b[38;5;124m'\u001b[39m)\n\u001b[1;32m      2\u001b[0m plt\u001b[38;5;241m.\u001b[39mplot(hist\u001b[38;5;241m.\u001b[39mhistory[\u001b[38;5;124m'\u001b[39m\u001b[38;5;124mval_accuracy\u001b[39m\u001b[38;5;124m'\u001b[39m], label\u001b[38;5;241m=\u001b[39m\u001b[38;5;124m'\u001b[39m\u001b[38;5;124mValidation\u001b[39m\u001b[38;5;124m'\u001b[39m)\n\u001b[1;32m      3\u001b[0m plt\u001b[38;5;241m.\u001b[39mylabel(\u001b[38;5;124m'\u001b[39m\u001b[38;5;124mAccuracy\u001b[39m\u001b[38;5;124m'\u001b[39m)\n",
      "\u001b[0;31mNameError\u001b[0m: name 'hist' is not defined"
     ]
    }
   ],
   "source": [
    "plt.plot(hist.history['accuracy'], label='Train')\n",
    "plt.plot(hist.history['val_accuracy'], label='Validation')\n",
    "plt.ylabel('Accuracy')\n",
    "plt.xlabel('Epoch')\n",
    "plt.title('Model Accuracy')\n",
    "plt.legend(loc='upper left')"
   ]
  },
  {
   "cell_type": "code",
   "execution_count": 129,
   "metadata": {
    "colab": {
     "base_uri": "https://localhost:8080/",
     "height": 312
    },
    "executionInfo": {
     "elapsed": 335,
     "status": "ok",
     "timestamp": 1673005888314,
     "user": {
      "displayName": "David Bauer",
      "userId": "03750147589111543786"
     },
     "user_tz": -60
    },
    "id": "4E1uXqLC35PS",
    "outputId": "95242484-d548-4549-958a-deedfb6ebb20"
   },
   "outputs": [
    {
     "data": {
      "text/plain": [
       "<matplotlib.legend.Legend at 0x7f7bd9e98250>"
      ]
     },
     "execution_count": 129,
     "metadata": {},
     "output_type": "execute_result"
    },
    {
     "data": {
      "image/png": "[encoded data removed]",
      "text/plain": [
       "<Figure size 432x288 with 1 Axes>"
      ]
     },
     "metadata": {
      "needs_background": "light"
     },
     "output_type": "display_data"
    }
   ],
   "source": [
    "plt.plot(hist.history['loss'], label='Train')\n",
    "plt.plot(hist.history['val_loss'], label='Validation')\n",
    "plt.ylabel('Loss')\n",
    "plt.xlabel('Epoch')\n",
    "plt.title('Model Loss')\n",
    "plt.legend(loc='upper right')"
   ]
  },
  {
   "cell_type": "code",
   "execution_count": 130,
   "metadata": {
    "colab": {
     "base_uri": "https://localhost:8080/"
    },
    "executionInfo": {
     "elapsed": 374,
     "status": "ok",
     "timestamp": 1673005889934,
     "user": {
      "displayName": "David Bauer",
      "userId": "03750147589111543786"
     },
     "user_tz": -60
    },
    "id": "o1K52eJ24F3V",
    "outputId": "05329e9e-ce60-4f83-dd8e-71b7efb2c093"
   },
   "outputs": [
    {
     "name": "stdout",
     "output_type": "stream",
     "text": [
      "32/32 [==============================] - 0s 2ms/step - loss: 0.3882 - accuracy: 0.9310\n",
      "Test loss: 0.3882017433643341\n",
      "Test accuracy: 0.9309999942779541\n"
     ]
    }
   ],
   "source": [
    "test_loss, test_acc = log_reg.evaluate(Xtest, Ytest)\n",
    "print(\"Test loss:\", test_loss)\n",
    "print(\"Test accuracy:\", test_acc)"
   ]
  },
  {
   "cell_type": "markdown",
   "metadata": {
    "id": "Axvj0jO1gVjf"
   },
   "source": [
    "# 2. Output Perturbation: \n",
    "* The goal of this excercise is to get a differentially private parameter vector. \n",
    "* How. By adding calibrated noise to the parameters derived from non-private logistic regression training. \n",
    "* This procedure is called **output perturbation**\n",
    "* For this, we need an algorithm for privacy-preserving logistic regression, which adds noise to the classifier obtained by logistic regression, proportional to its **sensitivity**. \n",
    "<br>\n",
    "* **Algorithm 1**:\n",
    "1. - Compute $w^{*}$, the classifier obtained by regularized logistic regression on the labelled examples $(x_{1},y_{1}), ..., (x_{n}, y_{n})$\n",
    "2. - Pick a noise vector $η$ according to the following density function: $ h({η}) ∝ \\exp(\\frac{-nϵλ}{2} \\lVert η \\rVert)$. \n",
    "<br> <br> How to choose such a vector: pick the norm of $\\eta$ from the $Γ(d, \\frac{2}{nϵλ})$ distribution ([Gamma distribution](https://en.wikipedia.org/wiki/Gamma_distribution)), and pick the dirtection of $\\eta$ uniformly at random. \n",
    "3. - Output $w^{*}+ \\eta$ \n",
    "<br>\n",
    "* The following Theorem, and Corollary might be helpful to understand the Algorithm above (Proofs are omitted here): \n",
    "* - Theorem: Let $(x_{1},y_{1}), ..., (x_{n},y_{n})$ be a set of labelled points over $\\mathbb{R}^{d}$ such that $\\lVert x_{i} \\rVert \\le 1$  for all $i$. Then, Algorithm above preserves \u000f$ϵ$-differential privacy.\n",
    "<br>\n",
    "* Given a set of n examples $x_{1}, ...,  x_{n}$ in $\\mathbb{R}^{d}$, with labels $y_{1}, ..., y_{n}$, such that for all $i$, $\\lVert x_{i} \\rVert \\le 1$, then the sensitivity of logistic regression with regularization parameter $λ$ is at most $\\frac{2}{n\\lambda}$\n",
    "\n",
    "4. To access the performance of the algorithm above, we need   to bound its performance on the training data. To do this, we introduce the notation below: \n",
    "* - For a classifier $w$, we use $L(w)$ to denote the expected loss of $w$ over the data distribution, and $\\hat L (w)$ to denote the empirical average loss of $w$ over the training data. In other words, <br> <br> $ \\hat L(w) = \\frac{1}{n} \\sum_{i = 1} ^{n} log(1 + \\exp(-y_{i}w^{T} x_{i}))$, <br>  <br> where  $(x_{i},y_{i}), i = 1, ..., n $ are the training examples. \n",
    "\n",
    "* - Further, for a classifier $w$, we use the notation $f_{\\lambda}(w)$ to denote the quantity $ \\frac{1}{2} λ {\\lVert w \\rVert}^{2} + L(w)$ and $\\hat f_{\\lambda}(w)$ to denote the quantity  $ \\frac{1}{2} \\lambda {\\lVert w \\rVert} ^{2} + \\hat L(w)$. \n",
    "\n",
    "* - Finally, we can summarize the guarantees on this algorithm with: <br> <br>\n",
    " Given a logistic regression problem with regularization parameter $\\lambda$, let $w_{1}$ be the classifier that minimizes $\\hat f(\\lambda)$, and $w_{2}$ be the classifier output by the algorithm mentioned above, respectively. Then, with probability $1- δ$ over the randomness in the privacy mechanism, <br> <br> $\\hat f_{\\lambda}(w_{2}) \\le \\hat f_{\\lambda}(w_{1}) + \\frac{2d^{2}(1 + \\lambda) \\log^{2} (\\frac{d}{\\delta})}{\\lambda^{2}n^{2}\\epsilon^{2}}$ (Proof is omitted)\n",
    "\n",
    "* It becomes evident that the performance of the algorithm above degrades with decreasing λ, and is poor in particular when λ is very small. \n",
    "\n",
    "- 5. Based on what has been introduced so far, implement the algorithm mentioned above and provide an ϵ vs accuracy plot.\n",
    "\n"
   ]
  },
  {
   "cell_type": "code",
   "execution_count": 133,
   "metadata": {
    "colab": {
     "base_uri": "https://localhost:8080/",
     "height": 314
    },
    "executionInfo": {
     "elapsed": 14823,
     "status": "ok",
     "timestamp": 1673006058455,
     "user": {
      "displayName": "David Bauer",
      "userId": "03750147589111543786"
     },
     "user_tz": -60
    },
    "id": "ShG2wMcA2l78",
    "outputId": "1d484fa4-2147-48a7-b558-9b9fa1a58ac0"
   },
   "outputs": [
    {
     "name": "stdout",
     "output_type": "stream",
     "text": [
      "(1, 784, 1)\n"
     ]
    },
    {
     "data": {
      "text/plain": [
       "Text(0.5, 0, 'Epsilon')"
      ]
     },
     "execution_count": 133,
     "metadata": {},
     "output_type": "execute_result"
    },
    {
     "data": {
      "image/png": "[encoded data removed]",
      "text/plain": [
       "<Figure size 432x288 with 1 Axes>"
      ]
     },
     "metadata": {
      "needs_background": "light"
     },
     "output_type": "display_data"
    }
   ],
   "source": [
    "n = 1000\n",
    "d = 24*24\n",
    "eps = np.linspace(0.00001,5)\n",
    "\n",
    "\n",
    "def pick_eta (eps, lamb, n, d, size) :\n",
    "  assert eps > 0\n",
    "  eta_norm = np.random.gamma(d, 2/(eps*lamb*n))\n",
    "\n",
    "  eta = np.random.uniform(0, 1, size)\n",
    "  eta = (eta/eta.sum()) * eta_norm\n",
    "  \n",
    "  return eta\n",
    "\n",
    "\n",
    "def get_acc(mdl, eps, lamb):\n",
    "  acc = []\n",
    "  weights = np.asarray(mdl.get_weights())\n",
    "  print(weights.shape)\n",
    "  for e in eps:\n",
    "    eta = pick_eta(e, lamb, n, d, weights.shape[1]).reshape(weights.shape)\n",
    "    tmp_mdl = make_log_reg(lamb, learning_rate)\n",
    "    \n",
    "    tmp_mdl.set_weights(weights + eta)\n",
    "    test_loss, test_acc = tmp_mdl.evaluate(Xtest, Ytest, verbose=False)\n",
    "    acc.append(test_acc)\n",
    "  return acc\n",
    "\n",
    "acc = get_acc(log_reg, eps, lamb)\n",
    "plt.plot(eps, acc)\n",
    "plt.ylabel('Accuracy')\n",
    "plt.xlabel('Epsilon')"
   ]
  },
  {
   "cell_type": "markdown",
   "metadata": {
    "id": "302JQatN2zcf"
   },
   "source": [
    "# 3. Objective Perturbation\n",
    "\n",
    "* In this excercise we want to implement an privacy-preserving approximation algorithm to logistic regression, which has better performance bounds for small λ. \n",
    "* The input to this algorithm is s a set of examples $x_{1}, ..., x_{n}$ over $\\mathbb{R}^{d}$ such that $\\lVert x_{i} \\rVert \\le 1$ for all $i$, a set of labels $y_{1}, ..., y_{i}$ for the examples, a regularization constant $\\lambda$ and a privacy parameter $\\epsilon$ and the output is a vector $w^{*}$ in $\\mathbb{R}^{d}$. <br> <br>\n",
    "\n",
    "* Algorithm 2: \n",
    "\n",
    "  - Pick  a random vector $b$ from the density function $ h(b) \\propto \\exp{(\\frac{-ϵ}{2}\\lVert b \\rVert)}$ \n",
    "  - How to implement this? Pick the norm of $b$ from the $Γ(d,\\frac{2}{ϵ})$ distribution,  and the direction of $b$ uniformly at\n",
    "random. \n",
    "  -  Given examples $x_{1}, ..., x_{n}$ with the labels $y_{1}, ... y_{n}$ and a regularization constant $\\lambda$, compute  <br><br> $ w^{*} = \\text{argmin}_{w} \\frac{1}{2} \\lambda w^{T} w + \\frac{b^{T}w}{n} + \\frac{1}{n} \\sum_{i = 1} ^{n} \\log(1 + \\exp{(-y_{i}w^{T}x_{i})})$\n",
    "\n",
    "  - Finally, output $w^{*}$\n",
    "\n",
    "\n",
    "* Algorithm 2 is privacy preserving, however, we will omit the proof here. \n",
    "\n",
    "* Plot  $ϵ$ vs accuracy  for $λ = [0.01, 0.1, 1, 10, 100 ]$ for both algorithms. \n",
    "\n",
    "* Interprete the results\n",
    "\n"
   ]
  },
  {
   "cell_type": "code",
   "execution_count": 153,
   "metadata": {
    "colab": {
     "base_uri": "https://localhost:8080/"
    },
    "executionInfo": {
     "elapsed": 14085,
     "status": "ok",
     "timestamp": 1673007107053,
     "user": {
      "displayName": "David Bauer",
      "userId": "03750147589111543786"
     },
     "user_tz": -60
    },
    "id": "SVF-Qjbt9Vqc",
    "outputId": "9784e80e-aef2-4210-a2ce-8f068977027d"
   },
   "outputs": [
    {
     "name": "stdout",
     "output_type": "stream",
     "text": [
      "(1, 784, 1)\n"
     ]
    }
   ],
   "source": [
    "# Code for excercise above \n",
    "\n",
    "\n",
    "def pick_b (eps, lamb, n, d, size) :\n",
    "  assert eps > 0\n",
    "  b_norm = np.random.gamma(d, 2/eps)\n",
    "\n",
    "  b = np.random.uniform(0, 1, size)\n",
    "  b = (b/b.sum()) * b_norm\n",
    "  \n",
    "  return b\n",
    "\n",
    "def get_acc2(mdl, eps, lamb):\n",
    "  acc = []\n",
    "  weights = np.asarray(mdl.get_weights())\n",
    "  print(weights.shape)\n",
    "  for e in eps:\n",
    "    b = pick_b(e, lamb, n, d, weights.shape[1]).reshape(weights.shape)\n",
    "    tmp_mdl = make_log_reg(lamb, learning_rate)\n",
    "\n",
    "    tmp_mdl.set_weights(weights + (b.T * weights/n))\n",
    "    test_loss, test_acc = tmp_mdl.evaluate(Xtest, Ytest, verbose=False)\n",
    "    acc.append(test_acc)\n",
    "  return acc\n",
    "\n",
    "\n",
    "eps = np.logspace(-20,0)\n",
    "\n",
    "acc = get_acc2(log_reg, eps, lamb)"
   ]
  },
  {
   "cell_type": "code",
   "execution_count": 154,
   "metadata": {
    "colab": {
     "base_uri": "https://localhost:8080/"
    },
    "executionInfo": {
     "elapsed": 260,
     "status": "ok",
     "timestamp": 1673007111301,
     "user": {
      "displayName": "David Bauer",
      "userId": "03750147589111543786"
     },
     "user_tz": -60
    },
    "id": "C3FbXyb__EhG",
    "outputId": "f494da69-ff50-42fb-be5a-be22a8489c9a"
   },
   "outputs": [
    {
     "name": "stdout",
     "output_type": "stream",
     "text": [
      "[1.00000000e-20 2.55954792e-20 6.55128557e-20 1.67683294e-19\n",
      " 4.29193426e-19 1.09854114e-18 2.81176870e-18 7.19685673e-18\n",
      " 1.84206997e-17 4.71486636e-17 1.20679264e-16 3.08884360e-16\n",
      " 7.90604321e-16 2.02358965e-15 5.17947468e-15 1.32571137e-14\n",
      " 3.39322177e-14 8.68511374e-14 2.22299648e-13 5.68986603e-13\n",
      " 1.45634848e-12 3.72759372e-12 9.54095476e-12 2.44205309e-11\n",
      " 6.25055193e-11 1.59985872e-10 4.09491506e-10 1.04811313e-09\n",
      " 2.68269580e-09 6.86648845e-09 1.75751062e-08 4.49843267e-08\n",
      " 1.15139540e-07 2.94705170e-07 7.54312006e-07 1.93069773e-06\n",
      " 4.94171336e-06 1.26485522e-05 3.23745754e-05 8.28642773e-05\n",
      " 2.12095089e-04 5.42867544e-04 1.38949549e-03 3.55648031e-03\n",
      " 9.10298178e-03 2.32995181e-02 5.96362332e-02 1.52641797e-01\n",
      " 3.90693994e-01 1.00000000e+00]\n"
     ]
    }
   ],
   "source": [
    "print(eps)"
   ]
  },
  {
   "cell_type": "code",
   "execution_count": 155,
   "metadata": {
    "colab": {
     "base_uri": "https://localhost:8080/",
     "height": 300
    },
    "executionInfo": {
     "elapsed": 292,
     "status": "ok",
     "timestamp": 1673007111948,
     "user": {
      "displayName": "David Bauer",
      "userId": "03750147589111543786"
     },
     "user_tz": -60
    },
    "id": "C2MMZsm9-t33",
    "outputId": "45de7eda-efb2-4a68-bed6-1299c6ef750a"
   },
   "outputs": [
    {
     "data": {
      "text/plain": [
       "Text(0.5, 0, 'Epsilon')"
      ]
     },
     "execution_count": 155,
     "metadata": {},
     "output_type": "execute_result"
    },
    {
     "data": {
      "image/png": "[encoded data removed]",
      "text/plain": [
       "<Figure size 432x288 with 1 Axes>"
      ]
     },
     "metadata": {
      "needs_background": "light"
     },
     "output_type": "display_data"
    }
   ],
   "source": [
    "plt.plot(eps, acc)\n",
    "plt.xscale('log')\n",
    "plt.ylabel('Accuracy')\n",
    "plt.xlabel('Epsilon')"
   ]
  },
  {
   "cell_type": "markdown",
   "metadata": {
    "id": "QTB-3amY_21e"
   },
   "source": [
    "# Comparison of both algorithms\n",
    "\n",
    "Algorithm 2 is incorrect, we decided to omit those plots"
   ]
  },
  {
   "cell_type": "code",
   "execution_count": 168,
   "metadata": {
    "colab": {
     "base_uri": "https://localhost:8080/"
    },
    "executionInfo": {
     "elapsed": 116516,
     "status": "ok",
     "timestamp": 1673008455332,
     "user": {
      "displayName": "David Bauer",
      "userId": "03750147589111543786"
     },
     "user_tz": -60
    },
    "id": "FcvoYs8p-Obg",
    "outputId": "9fee9eb9-28be-4df3-e0ec-e1939092e933"
   },
   "outputs": [
    {
     "name": "stdout",
     "output_type": "stream",
     "text": [
      "(1, 784, 1)\n",
      "(1, 784, 1)\n",
      "(1, 784, 1)\n",
      "(1, 784, 1)\n",
      "(1, 784, 1)\n"
     ]
    }
   ],
   "source": [
    "lamb_list = np.logspace(-2,2,5)\n",
    "#eps = np.linspace(0.00001,5)\n",
    "eps = np.logspace(-1,1)\n",
    "res = []\n",
    "\n",
    "for lamb in lamb_list :\n",
    "  log_reg = make_log_reg(lamb, learning_rate)\n",
    "  train(log_reg)\n",
    "  acc = get_acc(log_reg, eps, lamb)\n",
    "  res.append(acc)"
   ]
  },
  {
   "cell_type": "code",
   "execution_count": 172,
   "metadata": {
    "colab": {
     "base_uri": "https://localhost:8080/",
     "height": 623
    },
    "executionInfo": {
     "elapsed": 659,
     "status": "ok",
     "timestamp": 1673008631533,
     "user": {
      "displayName": "David Bauer",
      "userId": "03750147589111543786"
     },
     "user_tz": -60
    },
    "id": "0xYH2dPPA1mP",
    "outputId": "957c9456-164b-4c16-bcc6-acdae29a2cf7"
   },
   "outputs": [
    {
     "data": {
      "text/plain": [
       "<matplotlib.legend.Legend at 0x7f7b9af66340>"
      ]
     },
     "execution_count": 172,
     "metadata": {},
     "output_type": "execute_result"
    },
    {
     "data": {
      "image/png": "[encoded data removed]",
      "text/plain": [
       "<Figure size 720x720 with 1 Axes>"
      ]
     },
     "metadata": {
      "needs_background": "light"
     },
     "output_type": "display_data"
    }
   ],
   "source": [
    "fig = plt.figure(figsize=(10,10))\n",
    "\n",
    "for i, lamb in enumerate(lamb_list) :\n",
    "  plt.plot(eps, res[i], label=lamb)\n",
    "  \n",
    "#plt.xscale('log')\n",
    "plt.ylabel('Accuracy')\n",
    "plt.xlabel('Epsilon')\n",
    "plt.legend()"
   ]
  },
  {
   "cell_type": "code",
   "execution_count": null,
   "metadata": {
    "id": "NBkDhaqPCgSb"
   },
   "outputs": [],
   "source": []
  }
 ],
 "metadata": {
  "accelerator": "GPU",
  "colab": {
   "provenance": []
  },
  "gpuClass": "standard",
  "kernelspec": {
   "display_name": "Python 3 (ipykernel)",
   "language": "python",
   "name": "python3"
  },
  "language_info": {
   "codemirror_mode": {
    "name": "ipython",
    "version": 3
   },
   "file_extension": ".py",
   "mimetype": "text/x-python",
   "name": "python",
   "nbconvert_exporter": "python",
   "pygments_lexer": "ipython3",
   "version": "3.10.8"
  }
 },
 "nbformat": 4,
 "nbformat_minor": 4
}
